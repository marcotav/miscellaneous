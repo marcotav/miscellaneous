{
 "cells": [
  {
   "cell_type": "markdown",
   "metadata": {
    "scrolled": false
   },
   "source": [
    "# Getting urls\n",
    "\n",
    "<img align=\"left\" width=\"80\" height=\"200\" src=\"https://img.shields.io/badge/python-v3.6-blue.svg\">\n",
    "<br>"
   ]
  },
  {
   "cell_type": "code",
   "execution_count": 1,
   "metadata": {
    "scrolled": false
   },
   "outputs": [
    {
     "name": "stdout",
     "output_type": "stream",
     "text": [
      "List of URLs:\n",
      "\n",
      "http://www.amazon.com\n",
      "http://stackoverflow.com/questions/12345/blablablabla\"\n",
      "Full chat without media:\n",
      "\n",
      "\"These are the links http://www.amazon.com  and the link http://stackoverflow.com/questions/12345/blablablabla\"\n"
     ]
    }
   ],
   "source": [
    "def getting_urls():\n",
    "\n",
    "    import re\n",
    "\n",
    "    with open('example.txt', 'r') as file:\n",
    "        data = file.read().replace('\\n', '')\n",
    "\n",
    "    lst_links = re.findall(r'(https?://[^\\s]+)', data)\n",
    "    lst_links = [el.split('[')[0] for el in lst_links]\n",
    "\n",
    "    \n",
    "    return data, lst_links\n",
    "\n",
    "print('List of URLs:\\n')\n",
    "for link in getting_urls()[1]:\n",
    "    print(link)\n",
    "    \n",
    "print('Full chat without media:\\n')\n",
    "print(getting_urls()[0])"
   ]
  },
  {
   "cell_type": "code",
   "execution_count": null,
   "metadata": {},
   "outputs": [],
   "source": []
  }
 ],
 "metadata": {
  "kernelspec": {
   "display_name": "Python 3",
   "language": "python",
   "name": "python3"
  },
  "language_info": {
   "codemirror_mode": {
    "name": "ipython",
    "version": 3
   },
   "file_extension": ".py",
   "mimetype": "text/x-python",
   "name": "python",
   "nbconvert_exporter": "python",
   "pygments_lexer": "ipython3",
   "version": "3.6.6"
  }
 },
 "nbformat": 4,
 "nbformat_minor": 2
}
