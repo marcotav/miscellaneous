{
 "cells": [
  {
   "cell_type": "markdown",
   "metadata": {},
   "source": [
    "<br>\n",
    "<img align=\"left\" width=\"300\" src=\"sql.png\">"
   ]
  },
  {
   "cell_type": "markdown",
   "metadata": {},
   "source": [
    "# SQL Tutorial  \n",
    "\n",
    "### Table of contents\n",
    "\n",
    "1. [Introduction](#Introduction)"
   ]
  },
  {
   "cell_type": "markdown",
   "metadata": {},
   "source": [
    "## Introduction\n",
    "[[go back to the top]](#Table-of-contents)\n",
    "\n",
    "This tutorial is based on this [great tutorial by Dataquest](https://www.dataquest.io/blog/sql-fundamentals/) but many other references were used. A few important point are:\n",
    "- If our data is stored in a database, the language we use is called `SQL` (structured query language). \n",
    "- Each unique request is expressed in SQL as a single query. After we write the query, we ask the database management system (DBMS) to run it and display the corresponding results."
   ]
  },
  {
   "cell_type": "code",
   "execution_count": null,
   "metadata": {},
   "outputs": [],
   "source": []
  }
 ],
 "metadata": {
  "kernelspec": {
   "display_name": "Python 3",
   "language": "python",
   "name": "python3"
  },
  "language_info": {
   "codemirror_mode": {
    "name": "ipython",
    "version": 3
   },
   "file_extension": ".py",
   "mimetype": "text/x-python",
   "name": "python",
   "nbconvert_exporter": "python",
   "pygments_lexer": "ipython3",
   "version": "3.6.6"
  }
 },
 "nbformat": 4,
 "nbformat_minor": 2
}
