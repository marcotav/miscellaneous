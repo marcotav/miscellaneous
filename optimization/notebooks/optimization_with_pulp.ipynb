{
 "cells": [
  {
   "cell_type": "markdown",
   "metadata": {},
   "source": [
    "# Linear Optimization using `PuLP`\n",
    "<br>\n",
    "<img align=\"left\" width=\"80\" height=\"200\" src=\"https://img.shields.io/badge/python-v3.6-blue.svg\">\n",
    "<br>\n",
    "\n",
    "<br>\n",
    "\n",
    "### Notebook by [Marco Tavora](https://marcotavora.me/)\n",
    "\n",
    "## Table of contents\n",
    " \n",
    "1. [Introduction](#Introduction)"
   ]
  },
  {
   "cell_type": "code",
   "execution_count": 1,
   "metadata": {},
   "outputs": [],
   "source": [
    "%run modules.ipynb"
   ]
  },
  {
   "cell_type": "markdown",
   "metadata": {},
   "source": [
    "## Introduction\n",
    "[[go back to the top]](#Table-of-contents)\n",
    "\n",
    "\n",
    "In this notebook I will give examples of linear optimization problems using the `Python` library `PuLP`, a linear programming `Python` package.\n",
    "\n",
    "We recall that a linear programming problem has the form (in this case, a minimization problem):\n",
    "\n",
    "$$\\begin{array}{l}\n",
    "{\\text{minimize}}\\,\\,{{\\bf{c}}^{\\rm{T}}}{\\bf{x}}\\\\\n",
    "{\\text {subject to}}\\,\\,A{\\bf{x}} \\le {\\bf{b}}\\\\\n",
    "{\\text {and}}\\,\\,{\\bf{x}} \\ge {\\bf{0}}\n",
    "\\end{array}$$\n"
   ]
  },
  {
   "cell_type": "markdown",
   "metadata": {},
   "source": [
    "## Procedure\n",
    "[[go back to the top]](#Table-of-contents)"
   ]
  },
  {
   "cell_type": "code",
   "execution_count": 1,
   "metadata": {
    "collapsed": true
   },
   "outputs": [],
   "source": [
    "import pulp\n",
    "from pulp import *"
   ]
  },
  {
   "cell_type": "markdown",
   "metadata": {},
   "source": [
    "We first instantiate a maximization problem class, we'll name it `problem`:"
   ]
  },
  {
   "cell_type": "code",
   "execution_count": 6,
   "metadata": {},
   "outputs": [],
   "source": [
    "prob = LpProblem('problem', LpMaximize)"
   ]
  },
  {
   "cell_type": "markdown",
   "metadata": {},
   "source": [
    "The trickiest part of using `PuLP`'s language is learning how to declare variables properly.\n",
    "\n",
    "For that we generally use class `LpVariable` which models an linear programming variable with the following  parameters:\n",
    "- `name` (string) – The name of the variable used\n",
    "- `lowbound` – The lower bound on the variable’s range\n",
    "- `upBound` – The upper bound on the variable’s range\n",
    "- `cat` – The category of the variable (`Integer`, `Binary` or `Continuous`)\n",
    "\n",
    "The method `LpVariable.dicts` is particularly useful. It takes the name string and a list and builds a dictionary with keys that are concatenations of the name parameter and each of the items in the list parameter. The dictionary keys are the variables used in the constraints and utility function. \n",
    "\n",
    "Let us create two variables:"
   ]
  },
  {
   "cell_type": "code",
   "execution_count": 9,
   "metadata": {},
   "outputs": [],
   "source": [
    "x1, x2 = LpVariable('x1', lowBound=0, upBound=40), LpVariable('x2', lowBound=2, upBound = 1000)"
   ]
  },
  {
   "cell_type": "markdown",
   "metadata": {},
   "source": [
    "The objective function and constraints are added as follows:"
   ]
  },
  {
   "cell_type": "code",
   "execution_count": 11,
   "metadata": {},
   "outputs": [
    {
     "name": "stdout",
     "output_type": "stream",
     "text": [
      "the problem is:\n",
      "\n",
      "problem:\n",
      "MAXIMIZE\n",
      "3*x1 + 2*x2 + 0\n",
      "SUBJECT TO\n",
      "_C1: 2 x1 + x2 <= 100\n",
      "\n",
      "_C2: x1 + x2 <= 80\n",
      "\n",
      "_C3: 2 x1 + x2 <= 100\n",
      "\n",
      "_C4: x1 + x2 <= 80\n",
      "\n",
      "_C5: x1 <= 40\n",
      "\n",
      "_C6: x1 >= 0\n",
      "\n",
      "_C7: x2 >= 0\n",
      "\n",
      "VARIABLES\n",
      "x1 <= 40 Continuous\n",
      "2 <= x2 <= 1000 Continuous\n",
      "\n"
     ]
    }
   ],
   "source": [
    "(a, b, c, d, e, f) = (3, 2, 2, 1, 1, 1)\n",
    "\n",
    "param = (a, b, c, d, e, f)\n",
    "\n",
    "upper = (100, 80, 40)\n",
    "\n",
    "prob += param[0] * x1 + param[1] * x2\n",
    "prob += param[2] * x1 + param[3] * x2 <= upper[0] \n",
    "prob += param[4] * x1 + param[5] * x2 <= upper[1]\n",
    "prob += x1 <= upper[2]\n",
    "prob += x1 >= 0\n",
    "prob += x2 >= 0\n",
    "\n",
    "print('the problem is:\\n')\n",
    "print(prob)"
   ]
  },
  {
   "cell_type": "markdown",
   "metadata": {},
   "source": [
    "To solve it we write:"
   ]
  },
  {
   "cell_type": "code",
   "execution_count": 15,
   "metadata": {},
   "outputs": [
    {
     "data": {
      "text/plain": [
       "'Optimal'"
      ]
     },
     "execution_count": 15,
     "metadata": {},
     "output_type": "execute_result"
    },
    {
     "name": "stdout",
     "output_type": "stream",
     "text": [
      "The optimal values of x1 and x2 are: 20.0 60.0\n"
     ]
    }
   ],
   "source": [
    "status = prob.solve(GLPK(msg=0))\n",
    "LpStatus[status]\n",
    " \n",
    "print('The optimal values of x1 and x2 are:', value(x1), value(x2))"
   ]
  },
  {
   "cell_type": "markdown",
   "metadata": {},
   "source": [
    "## Example\n",
    "[[go back to the top]](#Table-of-contents)"
   ]
  },
  {
   "cell_type": "code",
   "execution_count": 32,
   "metadata": {},
   "outputs": [],
   "source": [
    "def optimization_problem():\n",
    "\n",
    "    x = pulp.LpVariable.dicts('x', s, lowBound = 0, upBound=I*J*K, cat = pulp.LpInteger)\n",
    "\n",
    "    prob1 = pulp.LpProblem('Optimization', LpMaximize)\n",
    "    prob1 += sum([x[i, j, k] * FW[i, j, k]  \n",
    "                  for i in range(I) \n",
    "                  for j in range(J) \n",
    "                  for k in range(K)])\n",
    "\n",
    "    for j in range(J):\n",
    "        prob1 += lpSum([A[i, k] * x[i, j, k] for i in range(I) for k in range(K)]) <= G[j]\n",
    "\n",
    "    for i in range(I):\n",
    "        prob1 += lpSum([A[i, k] * x[i, j, k] for j in range(J) for k in range(K)]) <= F[i]  \n",
    "        prob1 += lpSum([A[i, k] * x[i, j, k] for j in range(J) for k in range(K)]) >= 0\n",
    "        prob1 += lpSum([x[i, j, k] for j in range(J) for k in range(K)]) <= M[i]  \n",
    "        prob1 += lpSum([x[i, j, k] for j in range(J) for k in range(K)]) >= 0\n",
    "        prob1 += lpSum([x[i, j, k] for i in range(I) for j in range(J) for k in range(K)]) == dict_S[i]\n",
    "\n",
    "    prob1 += lpSum([x[i, j, 1] for i in range(I) for j in range(J)]) <= NS \n",
    "    \n",
    "    for i in range(I):\n",
    "        for l in range(m[i], M[i]):\n",
    "            prob1 += S[i, l] >= S[i, l+1]\n",
    "            \n",
    "    prob1 += lpSum([x[i, j, k] for i in range(I) for j in range(J) for k in range(K)]) == dict_S[i]\n",
    "    \n",
    "    return prob1\n"
   ]
  },
  {
   "cell_type": "code",
   "execution_count": 41,
   "metadata": {},
   "outputs": [
    {
     "name": "stdout",
     "output_type": "stream",
     "text": [
      "Optimization:\n",
      "MAXIMIZE\n",
      "10*x_(0,_0,_0) + 11*x_(0,_0,_1) + 12*x_(0,_1,_0) + 9*x_(0,_1,_1) + 13*x_(1,_0,_0) + 17*x_(1,_0,_1) + 10*x_(1,_1,_0) + 8*x_(1,_1,_1) + 0\n",
      "SUBJECT TO\n",
      "_C1: 5 x_(0,_0,_0) + 7 x_(0,_0,_1) + 9 x_(1,_0,_0) + 6 x_(1,_0,_1) <= 26\n",
      "\n",
      "_C2: 5 x_(0,_1,_0) + 7 x_(0,_1,_1) + 9 x_(1,_1,_0) + 6 x_(1,_1,_1) <= 21\n",
      "\n",
      "_C3: 5 x_(0,_0,_0) + 7 x_(0,_0,_1) + 5 x_(0,_1,_0) + 7 x_(0,_1,_1) <= 6\n",
      "\n",
      "_C4: 5 x_(0,_0,_0) + 7 x_(0,_0,_1) + 5 x_(0,_1,_0) + 7 x_(0,_1,_1) >= 0\n",
      "\n",
      "_C5: x_(0,_0,_0) + x_(0,_0,_1) + x_(0,_1,_0) + x_(0,_1,_1) <= 4\n",
      "\n",
      "_C6: x_(0,_0,_0) + x_(0,_0,_1) + x_(0,_1,_0) + x_(0,_1,_1) >= 0\n",
      "\n",
      "_C7: x_(0,_0,_0) + x_(0,_0,_1) + x_(0,_1,_0) + x_(0,_1,_1) + x_(1,_0,_0)\n",
      " + x_(1,_0,_1) + x_(1,_1,_0) + x_(1,_1,_1) = 1\n",
      "\n",
      "_C8: 9 x_(1,_0,_0) + 6 x_(1,_0,_1) + 9 x_(1,_1,_0) + 6 x_(1,_1,_1) <= 8\n",
      "\n",
      "_C9: 9 x_(1,_0,_0) + 6 x_(1,_0,_1) + 9 x_(1,_1,_0) + 6 x_(1,_1,_1) >= 0\n",
      "\n",
      "_C10: x_(1,_0,_0) + x_(1,_0,_1) + x_(1,_1,_0) + x_(1,_1,_1) <= 3\n",
      "\n",
      "_C11: x_(1,_0,_0) + x_(1,_0,_1) + x_(1,_1,_0) + x_(1,_1,_1) >= 0\n",
      "\n",
      "_C12: x_(0,_0,_0) + x_(0,_0,_1) + x_(0,_1,_0) + x_(0,_1,_1) + x_(1,_0,_0)\n",
      " + x_(1,_0,_1) + x_(1,_1,_0) + x_(1,_1,_1) = 1\n",
      "\n",
      "_C13: x_(0,_0,_1) + x_(0,_1,_1) + x_(1,_0,_1) + x_(1,_1,_1) <= 12\n",
      "\n",
      "_C14: x_(0,_0,_0) + x_(0,_0,_1) + x_(0,_1,_0) + x_(0,_1,_1) + x_(1,_0,_0)\n",
      " + x_(1,_0,_1) + x_(1,_1,_0) + x_(1,_1,_1) = 1\n",
      "\n",
      "VARIABLES\n",
      "0 <= x_(0,_0,_0) <= 8 Integer\n",
      "0 <= x_(0,_0,_1) <= 8 Integer\n",
      "0 <= x_(0,_1,_0) <= 8 Integer\n",
      "0 <= x_(0,_1,_1) <= 8 Integer\n",
      "0 <= x_(1,_0,_0) <= 8 Integer\n",
      "0 <= x_(1,_0,_1) <= 8 Integer\n",
      "0 <= x_(1,_1,_0) <= 8 Integer\n",
      "0 <= x_(1,_1,_1) <= 8 Integer\n",
      "\n"
     ]
    }
   ],
   "source": [
    "I, J, K = 2, 2, 2\n",
    "s = [(i, j, k) for i in range(I) for j in range(J) for k in range(K)]\n",
    "\n",
    "(FW, A, G, F, f, M, m, R, S, NS) = ({(0, 0, 0): 10, (0, 0, 1): 11, \n",
    "                                     (0, 1, 0): 12, (0, 1, 1): 9, \n",
    "                                     (1, 0, 0): 13, (1, 0, 1): 17, \n",
    "                                     (1, 1, 0): 10, (1, 1, 1): 8}, \n",
    "                                    {(0, 0): 5, (0, 1): 7, \n",
    "                                     (1, 0): 9, (1, 1): 6}, \n",
    "                                    {0: 26, 1: 21}, {0: 6, 1: 8}, \n",
    "                                    {0: 4, 1: 6}, {0: 4, 1: 3}, \n",
    "                                    {0: 2, 1: 1}, \n",
    "                                    {(0, 2): 10, (0, 3): 5, \n",
    "                                     (0, 4): 2, (1, 1): 15, \n",
    "                                     (1, 2): 10, (1, 3): 5}, \n",
    "                                    {(0, 2): 1, (0, 3): 0, \n",
    "                                     (0, 4): 0, (1, 1): 1, \n",
    "                                     (1, 2): 0, (1, 3): 0}, \n",
    "                                    12)\n",
    "\n",
    "dict_S = {}\n",
    "for i in range(I):\n",
    "    dict_S[i] = sum([S[i, l] for l in range(m[i], M[i]+1)])\n",
    "\n",
    "prob1 = optimization_problem()\n",
    "\n",
    "print(prob1)"
   ]
  },
  {
   "cell_type": "markdown",
   "metadata": {},
   "source": [
    "Solving it:"
   ]
  },
  {
   "cell_type": "code",
   "execution_count": 56,
   "metadata": {},
   "outputs": [
    {
     "data": {
      "text/plain": [
       "1"
      ]
     },
     "execution_count": 56,
     "metadata": {},
     "output_type": "execute_result"
    },
    {
     "name": "stdout",
     "output_type": "stream",
     "text": [
      "Status: Optimal\n",
      "x_(0,_0,_0) = 0.0\n",
      "x_(0,_0,_1) = 0.0\n",
      "x_(0,_1,_0) = 0.0\n",
      "x_(0,_1,_1) = 0.0\n",
      "x_(1,_0,_0) = 0.0\n",
      "x_(1,_0,_1) = 1.0\n",
      "x_(1,_1,_0) = 0.0\n",
      "x_(1,_1,_1) = 0.0\n"
     ]
    }
   ],
   "source": [
    "prob1.writeLP(\"prob1.lp\")\n",
    "\n",
    "prob1.solve()\n",
    "\n",
    "print(\"Status:\", LpStatus[prob1.status])\n",
    "\n",
    "lst_v = []\n",
    "for v in prob1.variables():\n",
    "    print(v.name, \"=\", v.varValue)\n",
    "    lst_v.append(v.varValue)"
   ]
  },
  {
   "cell_type": "code",
   "execution_count": 63,
   "metadata": {},
   "outputs": [
    {
     "name": "stdout",
     "output_type": "stream",
     "text": [
      "None 6.0\n",
      "None 0.0\n",
      "None 0.0\n",
      "None 0.0\n",
      "None 0.0\n",
      "None 0.0\n",
      "None 1.0\n",
      "None 6.0\n",
      "None 6.0\n",
      "None 1.0\n",
      "None 1.0\n",
      "None 1.0\n",
      "None 1.0\n",
      "None 1.0\n"
     ]
    }
   ],
   "source": [
    "for constraint in prob1.constraints:\n",
    "        sum = 0\n",
    "        for var, coefficient in prob1.constraints[constraint].items():\n",
    "            sum += var.varValue * coefficient\n",
    "        print(prob1.constraints[constraint].name, sum)"
   ]
  },
  {
   "cell_type": "code",
   "execution_count": 66,
   "metadata": {},
   "outputs": [
    {
     "name": "stdout",
     "output_type": "stream",
     "text": [
      "Maximum objective function = 17.0\n"
     ]
    }
   ],
   "source": [
    "print(\"Maximum objective function =\", value(prob1.objective))"
   ]
  },
  {
   "cell_type": "markdown",
   "metadata": {},
   "source": [
    "Checking manually:"
   ]
  },
  {
   "cell_type": "code",
   "execution_count": 67,
   "metadata": {},
   "outputs": [
    {
     "name": "stdout",
     "output_type": "stream",
     "text": [
      "objective function maximum is: 17\n"
     ]
    }
   ],
   "source": [
    "x1, x2, x3, x4, x5, x6, x7, x8 = 0, 0, 0, 0, 0, 1, 0, 0\n",
    "\n",
    "print('objective function maximum is:', 10*x1 + 11*x2 + 12*x3 + 9*x4 + 13*x5+ 17*x6 + 10*x7 + 8*x8)"
   ]
  }
 ],
 "metadata": {
  "kernelspec": {
   "display_name": "Python 3",
   "language": "python",
   "name": "python3"
  },
  "language_info": {
   "codemirror_mode": {
    "name": "ipython",
    "version": 3
   },
   "file_extension": ".py",
   "mimetype": "text/x-python",
   "name": "python",
   "nbconvert_exporter": "python",
   "pygments_lexer": "ipython3",
   "version": "3.6.6"
  },
  "latex_envs": {
   "LaTeX_envs_menu_present": true,
   "autoclose": false,
   "autocomplete": true,
   "bibliofile": "biblio.bib",
   "cite_by": "apalike",
   "current_citInitial": 1,
   "eqLabelWithNumbers": true,
   "eqNumInitial": 1,
   "hotkeys": {
    "equation": "Ctrl-E",
    "itemize": "Ctrl-I"
   },
   "labels_anchors": false,
   "latex_user_defs": false,
   "report_style_numbering": false,
   "user_envs_cfg": false
  }
 },
 "nbformat": 4,
 "nbformat_minor": 1
}
