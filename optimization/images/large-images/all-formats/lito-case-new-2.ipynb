{
 "cells": [
  {
   "cell_type": "markdown",
   "metadata": {},
   "source": [
    "# Lito - Case\n",
    "\n",
    "<img align=\"left\" width=\"80\" height=\"200\" src=\"https://img.shields.io/badge/python-v3.6-blue.svg\">\n",
    "<br>\n",
    "\n",
    "## Table of contents\n",
    "\n",
    "1. [Import Libraries and Data](#Import-Libraries-and-Data)\n",
    "4. [Data Cleaning](#Data-Cleaning)\n",
    "5. [Exploratory Data Analysis](#Exploratory-Data-Analysis)\n",
    "4. [Features Through Time](#Features-Through-Time)\n"
   ]
  },
  {
   "cell_type": "markdown",
   "metadata": {},
   "source": [
    "## Import Libraries and Data\n",
    "[[go back to the top]](#Table-of-contents)"
   ]
  },
  {
   "cell_type": "code",
   "execution_count": 1,
   "metadata": {},
   "outputs": [
    {
     "data": {
      "application/javascript": [
       "IPython.notebook.set_autosave_interval(30000)"
      ]
     },
     "metadata": {},
     "output_type": "display_data"
    },
    {
     "name": "stdout",
     "output_type": "stream",
     "text": [
      "Autosaving every 30 seconds\n"
     ]
    }
   ],
   "source": [
    "import pandas as pd\n",
    "import numpy as np\n",
    "import matplotlib.pyplot as plt\n",
    "from bokeh.plotting import figure\n",
    "from bokeh.io import show, output_notebook\n",
    "import seaborn as sns; sns.set(rc={'figure.figsize':(16,9)})\n",
    "import itertools, math, warnings\n",
    "pd.set_option('display.max_rows', None)\n",
    "pd.set_option('display.max_columns', None)\n",
    "sns.set(color_codes=True)\n",
    "plt.style.use('seaborn')\n",
    "warnings.filterwarnings(\"ignore\")\n",
    "%matplotlib inline\n",
    "%autosave 30"
   ]
  },
  {
   "cell_type": "code",
   "execution_count": 2,
   "metadata": {},
   "outputs": [
    {
     "name": "stdout",
     "output_type": "stream",
     "text": [
      "(number of observations, number of features) = (18913, 22)\n"
     ]
    }
   ],
   "source": [
    "PATH = 'data/orders-6-months-clean.csv'\n",
    "df = pd.read_csv(PATH)\n",
    "print('(number of observations, number of features) =', df.shape)"
   ]
  },
  {
   "cell_type": "code",
   "execution_count": 3,
   "metadata": {},
   "outputs": [
    {
     "name": "stdout",
     "output_type": "stream",
     "text": [
      "First 3 rows:\n",
      "\n"
     ]
    },
    {
     "data": {
      "text/html": [
       "<div>\n",
       "<style scoped>\n",
       "    .dataframe tbody tr th:only-of-type {\n",
       "        vertical-align: middle;\n",
       "    }\n",
       "\n",
       "    .dataframe tbody tr th {\n",
       "        vertical-align: top;\n",
       "    }\n",
       "\n",
       "    .dataframe thead th {\n",
       "        text-align: right;\n",
       "    }\n",
       "</style>\n",
       "<table border=\"1\" class=\"dataframe\">\n",
       "  <thead>\n",
       "    <tr style=\"text-align: right;\">\n",
       "      <th></th>\n",
       "      <th>Origin</th>\n",
       "      <th>Sequence</th>\n",
       "      <th>Creation Date</th>\n",
       "      <th>Client Document</th>\n",
       "      <th>State</th>\n",
       "      <th>City</th>\n",
       "      <th>Neighborhood</th>\n",
       "      <th>Carrier</th>\n",
       "      <th>Delivery Deadline</th>\n",
       "      <th>Status</th>\n",
       "      <th>Utmi</th>\n",
       "      <th>Payment System Name</th>\n",
       "      <th>Installments</th>\n",
       "      <th>ID_SKU</th>\n",
       "      <th>Category Ids Sku</th>\n",
       "      <th>SKU Value</th>\n",
       "      <th>SKU Selling Price</th>\n",
       "      <th>SKU Total Price</th>\n",
       "      <th>Shipping List Price</th>\n",
       "      <th>Shipping Value</th>\n",
       "      <th>Total Value</th>\n",
       "      <th>Discounts Totals</th>\n",
       "    </tr>\n",
       "  </thead>\n",
       "  <tbody>\n",
       "    <tr>\n",
       "      <th>0</th>\n",
       "      <td>B2C Channel</td>\n",
       "      <td>614743</td>\n",
       "      <td>2018-02-28 02:01:51Z</td>\n",
       "      <td>XYA87A9X7YX</td>\n",
       "      <td>RJ</td>\n",
       "      <td>Duque de Caxias</td>\n",
       "      <td>Parque Duque</td>\n",
       "      <td>Pac</td>\n",
       "      <td>12bd</td>\n",
       "      <td>Canceled</td>\n",
       "      <td>-  -  -</td>\n",
       "      <td>Visa</td>\n",
       "      <td>5</td>\n",
       "      <td>126755</td>\n",
       "      <td>/3/42/</td>\n",
       "      <td>199</td>\n",
       "      <td>199</td>\n",
       "      <td>199</td>\n",
       "      <td>9.3</td>\n",
       "      <td>0.0</td>\n",
       "      <td>438.0</td>\n",
       "      <td>0.0</td>\n",
       "    </tr>\n",
       "    <tr>\n",
       "      <th>1</th>\n",
       "      <td>B2C Channel</td>\n",
       "      <td>614743</td>\n",
       "      <td>2018-02-28 02:01:51Z</td>\n",
       "      <td>XYA87A9X7YX</td>\n",
       "      <td>RJ</td>\n",
       "      <td>Duque de Caxias</td>\n",
       "      <td>Parque Duque</td>\n",
       "      <td>Pac</td>\n",
       "      <td>12bd</td>\n",
       "      <td>Canceled</td>\n",
       "      <td>-  -  -</td>\n",
       "      <td>Visa</td>\n",
       "      <td>5</td>\n",
       "      <td>116363</td>\n",
       "      <td>/3/36/</td>\n",
       "      <td>239</td>\n",
       "      <td>239</td>\n",
       "      <td>239</td>\n",
       "      <td>9.3</td>\n",
       "      <td>0.0</td>\n",
       "      <td>438.0</td>\n",
       "      <td>0.0</td>\n",
       "    </tr>\n",
       "    <tr>\n",
       "      <th>2</th>\n",
       "      <td>B2C Channel</td>\n",
       "      <td>614746</td>\n",
       "      <td>2018-02-28 02:09:26Z</td>\n",
       "      <td>XYA87A9X7YX</td>\n",
       "      <td>RJ</td>\n",
       "      <td>Duque de Caxias</td>\n",
       "      <td>Parque Duque</td>\n",
       "      <td>Pac</td>\n",
       "      <td>12bd</td>\n",
       "      <td>Canceled</td>\n",
       "      <td>-  -  -</td>\n",
       "      <td>Visa</td>\n",
       "      <td>5</td>\n",
       "      <td>126755</td>\n",
       "      <td>/3/42/</td>\n",
       "      <td>199</td>\n",
       "      <td>199</td>\n",
       "      <td>199</td>\n",
       "      <td>9.3</td>\n",
       "      <td>0.0</td>\n",
       "      <td>438.0</td>\n",
       "      <td>0.0</td>\n",
       "    </tr>\n",
       "  </tbody>\n",
       "</table>\n",
       "</div>"
      ],
      "text/plain": [
       "        Origin Sequence         Creation Date Client Document State  \\\n",
       "0  B2C Channel   614743  2018-02-28 02:01:51Z     XYA87A9X7YX    RJ   \n",
       "1  B2C Channel   614743  2018-02-28 02:01:51Z     XYA87A9X7YX    RJ   \n",
       "2  B2C Channel   614746  2018-02-28 02:09:26Z     XYA87A9X7YX    RJ   \n",
       "\n",
       "              City  Neighborhood Carrier Delivery Deadline    Status  \\\n",
       "0  Duque de Caxias  Parque Duque     Pac              12bd  Canceled   \n",
       "1  Duque de Caxias  Parque Duque     Pac              12bd  Canceled   \n",
       "2  Duque de Caxias  Parque Duque     Pac              12bd  Canceled   \n",
       "\n",
       "        Utmi Payment System Name Installments  ID_SKU Category Ids Sku  \\\n",
       "0   -  -  -                 Visa            5  126755           /3/42/   \n",
       "1   -  -  -                 Visa            5  116363           /3/36/   \n",
       "2   -  -  -                 Visa            5  126755           /3/42/   \n",
       "\n",
       "  SKU Value SKU Selling Price SKU Total Price  Shipping List Price  \\\n",
       "0       199               199             199                  9.3   \n",
       "1       239               239             239                  9.3   \n",
       "2       199               199             199                  9.3   \n",
       "\n",
       "   Shipping Value  Total Value  Discounts Totals  \n",
       "0             0.0        438.0               0.0  \n",
       "1             0.0        438.0               0.0  \n",
       "2             0.0        438.0               0.0  "
      ]
     },
     "execution_count": 3,
     "metadata": {},
     "output_type": "execute_result"
    },
    {
     "name": "stdout",
     "output_type": "stream",
     "text": [
      "Last 3 rows:\n",
      "\n"
     ]
    },
    {
     "data": {
      "text/html": [
       "<div>\n",
       "<style scoped>\n",
       "    .dataframe tbody tr th:only-of-type {\n",
       "        vertical-align: middle;\n",
       "    }\n",
       "\n",
       "    .dataframe tbody tr th {\n",
       "        vertical-align: top;\n",
       "    }\n",
       "\n",
       "    .dataframe thead th {\n",
       "        text-align: right;\n",
       "    }\n",
       "</style>\n",
       "<table border=\"1\" class=\"dataframe\">\n",
       "  <thead>\n",
       "    <tr style=\"text-align: right;\">\n",
       "      <th></th>\n",
       "      <th>Origin</th>\n",
       "      <th>Sequence</th>\n",
       "      <th>Creation Date</th>\n",
       "      <th>Client Document</th>\n",
       "      <th>State</th>\n",
       "      <th>City</th>\n",
       "      <th>Neighborhood</th>\n",
       "      <th>Carrier</th>\n",
       "      <th>Delivery Deadline</th>\n",
       "      <th>Status</th>\n",
       "      <th>Utmi</th>\n",
       "      <th>Payment System Name</th>\n",
       "      <th>Installments</th>\n",
       "      <th>ID_SKU</th>\n",
       "      <th>Category Ids Sku</th>\n",
       "      <th>SKU Value</th>\n",
       "      <th>SKU Selling Price</th>\n",
       "      <th>SKU Total Price</th>\n",
       "      <th>Shipping List Price</th>\n",
       "      <th>Shipping Value</th>\n",
       "      <th>Total Value</th>\n",
       "      <th>Discounts Totals</th>\n",
       "    </tr>\n",
       "  </thead>\n",
       "  <tbody>\n",
       "    <tr>\n",
       "      <th>18910</th>\n",
       "      <td>B2C Channel</td>\n",
       "      <td>658042</td>\n",
       "      <td>2018-08-30 19:50:37Z</td>\n",
       "      <td>8570203748</td>\n",
       "      <td>RJ</td>\n",
       "      <td>Teres�polis</td>\n",
       "      <td>V�rzea</td>\n",
       "      <td>Transportadora</td>\n",
       "      <td>8bd</td>\n",
       "      <td>Payment pending</td>\n",
       "      <td>cpc - google -  - brand</td>\n",
       "      <td>Mastercard</td>\n",
       "      <td>4</td>\n",
       "      <td>131834</td>\n",
       "      <td>/3/35/</td>\n",
       "      <td>199</td>\n",
       "      <td>199</td>\n",
       "      <td>199</td>\n",
       "      <td>26.58</td>\n",
       "      <td>26.58</td>\n",
       "      <td>225.58</td>\n",
       "      <td>0.0</td>\n",
       "    </tr>\n",
       "    <tr>\n",
       "      <th>18911</th>\n",
       "      <td>B2C Channel</td>\n",
       "      <td>658045</td>\n",
       "      <td>2018-08-30 19:55:28Z</td>\n",
       "      <td>15506641745</td>\n",
       "      <td>RJ</td>\n",
       "      <td>Rio de Janeiro</td>\n",
       "      <td>Botafogo</td>\n",
       "      <td>Retirada em Loja (18fd71a)</td>\n",
       "      <td>6bd</td>\n",
       "      <td>Payment pending</td>\n",
       "      <td>-  -  -</td>\n",
       "      <td>Mastercard</td>\n",
       "      <td>5</td>\n",
       "      <td>131837</td>\n",
       "      <td>/3/35/</td>\n",
       "      <td>199</td>\n",
       "      <td>199</td>\n",
       "      <td>199</td>\n",
       "      <td>0.00</td>\n",
       "      <td>0.00</td>\n",
       "      <td>358.00</td>\n",
       "      <td>0.0</td>\n",
       "    </tr>\n",
       "    <tr>\n",
       "      <th>18912</th>\n",
       "      <td>B2C Channel</td>\n",
       "      <td>658045</td>\n",
       "      <td>2018-08-30 19:55:28Z</td>\n",
       "      <td>15506641745</td>\n",
       "      <td>RJ</td>\n",
       "      <td>Rio de Janeiro</td>\n",
       "      <td>Botafogo</td>\n",
       "      <td>Retirada em Loja (18fd71a)</td>\n",
       "      <td>6bd</td>\n",
       "      <td>Payment pending</td>\n",
       "      <td>-  -  -</td>\n",
       "      <td>Mastercard</td>\n",
       "      <td>5</td>\n",
       "      <td>131434</td>\n",
       "      <td>/3/</td>\n",
       "      <td>159</td>\n",
       "      <td>159</td>\n",
       "      <td>159</td>\n",
       "      <td>0.00</td>\n",
       "      <td>0.00</td>\n",
       "      <td>358.00</td>\n",
       "      <td>0.0</td>\n",
       "    </tr>\n",
       "  </tbody>\n",
       "</table>\n",
       "</div>"
      ],
      "text/plain": [
       "            Origin Sequence         Creation Date Client Document State  \\\n",
       "18910  B2C Channel   658042  2018-08-30 19:50:37Z      8570203748    RJ   \n",
       "18911  B2C Channel   658045  2018-08-30 19:55:28Z     15506641745    RJ   \n",
       "18912  B2C Channel   658045  2018-08-30 19:55:28Z     15506641745    RJ   \n",
       "\n",
       "                 City Neighborhood                     Carrier  \\\n",
       "18910     Teres�polis       V�rzea              Transportadora   \n",
       "18911  Rio de Janeiro     Botafogo  Retirada em Loja (18fd71a)   \n",
       "18912  Rio de Janeiro     Botafogo  Retirada em Loja (18fd71a)   \n",
       "\n",
       "      Delivery Deadline           Status                     Utmi  \\\n",
       "18910               8bd  Payment pending  cpc - google -  - brand   \n",
       "18911               6bd  Payment pending                 -  -  -    \n",
       "18912               6bd  Payment pending                 -  -  -    \n",
       "\n",
       "      Payment System Name Installments  ID_SKU Category Ids Sku SKU Value  \\\n",
       "18910          Mastercard            4  131834           /3/35/       199   \n",
       "18911          Mastercard            5  131837           /3/35/       199   \n",
       "18912          Mastercard            5  131434              /3/       159   \n",
       "\n",
       "      SKU Selling Price SKU Total Price  Shipping List Price  Shipping Value  \\\n",
       "18910               199             199                26.58           26.58   \n",
       "18911               199             199                 0.00            0.00   \n",
       "18912               159             159                 0.00            0.00   \n",
       "\n",
       "       Total Value  Discounts Totals  \n",
       "18910       225.58               0.0  \n",
       "18911       358.00               0.0  \n",
       "18912       358.00               0.0  "
      ]
     },
     "execution_count": 3,
     "metadata": {},
     "output_type": "execute_result"
    }
   ],
   "source": [
    "num = 3\n",
    "print('First {} rows:\\n'.format(num))\n",
    "df.head(num)\n",
    "print('Last {} rows:\\n'.format(num))\n",
    "df.tail(num)"
   ]
  },
  {
   "cell_type": "markdown",
   "metadata": {},
   "source": [
    "## Data Cleaning\n",
    "[[go back to the top]](#Table-of-contents)"
   ]
  },
  {
   "cell_type": "markdown",
   "metadata": {},
   "source": [
    "### Drop `NaNs`"
   ]
  },
  {
   "cell_type": "code",
   "execution_count": 4,
   "metadata": {},
   "outputs": [],
   "source": [
    "df.dropna(inplace=True)"
   ]
  },
  {
   "cell_type": "markdown",
   "metadata": {},
   "source": [
    "### Tidying up the names of the columns:"
   ]
  },
  {
   "cell_type": "code",
   "execution_count": 5,
   "metadata": {},
   "outputs": [],
   "source": [
    "df.columns = [col.lower().replace('-','_').replace(' ','_') \n",
    "              for col in df.columns]"
   ]
  },
  {
   "cell_type": "markdown",
   "metadata": {},
   "source": [
    "### Types of `status` "
   ]
  },
  {
   "cell_type": "code",
   "execution_count": 6,
   "metadata": {},
   "outputs": [
    {
     "data": {
      "text/plain": [
       "Invoiced              11939\n",
       "Canceled               5685\n",
       "Ready for shipping      378\n",
       "Payment pending         111\n",
       "Name: status, dtype: int64"
      ]
     },
     "execution_count": 6,
     "metadata": {},
     "output_type": "execute_result"
    }
   ],
   "source": [
    "df['status'].value_counts()"
   ]
  },
  {
   "cell_type": "markdown",
   "metadata": {},
   "source": [
    "### Dropping the canceled orders and reseting the indexes"
   ]
  },
  {
   "cell_type": "code",
   "execution_count": 7,
   "metadata": {},
   "outputs": [],
   "source": [
    "df = df[df.status != 'Canceled'].copy()\n",
    "df.reset_index(inplace=True, drop=True)"
   ]
  },
  {
   "cell_type": "markdown",
   "metadata": {},
   "source": [
    "### Checking data types"
   ]
  },
  {
   "cell_type": "code",
   "execution_count": 8,
   "metadata": {},
   "outputs": [
    {
     "data": {
      "text/html": [
       "<div>\n",
       "<style scoped>\n",
       "    .dataframe tbody tr th:only-of-type {\n",
       "        vertical-align: middle;\n",
       "    }\n",
       "\n",
       "    .dataframe tbody tr th {\n",
       "        vertical-align: top;\n",
       "    }\n",
       "\n",
       "    .dataframe thead th {\n",
       "        text-align: right;\n",
       "    }\n",
       "</style>\n",
       "<table border=\"1\" class=\"dataframe\">\n",
       "  <thead>\n",
       "    <tr style=\"text-align: right;\">\n",
       "      <th></th>\n",
       "      <th>origin</th>\n",
       "      <th>sequence</th>\n",
       "      <th>creation_date</th>\n",
       "      <th>client_document</th>\n",
       "      <th>state</th>\n",
       "      <th>city</th>\n",
       "      <th>neighborhood</th>\n",
       "      <th>carrier</th>\n",
       "      <th>delivery_deadline</th>\n",
       "      <th>status</th>\n",
       "      <th>utmi</th>\n",
       "      <th>payment_system_name</th>\n",
       "      <th>installments</th>\n",
       "      <th>id_sku</th>\n",
       "      <th>category_ids_sku</th>\n",
       "      <th>sku_value</th>\n",
       "      <th>sku_selling_price</th>\n",
       "      <th>sku_total_price</th>\n",
       "      <th>shipping_list_price</th>\n",
       "      <th>shipping_value</th>\n",
       "      <th>total_value</th>\n",
       "      <th>discounts_totals</th>\n",
       "    </tr>\n",
       "  </thead>\n",
       "  <tbody>\n",
       "    <tr>\n",
       "      <th>0</th>\n",
       "      <td>B2C Channel</td>\n",
       "      <td>614845</td>\n",
       "      <td>2018-02-28 16:52:40Z</td>\n",
       "      <td>X0AX9YK97K0</td>\n",
       "      <td>RJ</td>\n",
       "      <td>Rio de Janeiro</td>\n",
       "      <td>Campo Grande</td>\n",
       "      <td>Sedex</td>\n",
       "      <td>4bd</td>\n",
       "      <td>Invoiced</td>\n",
       "      <td>-  -  -</td>\n",
       "      <td>Mastercard</td>\n",
       "      <td>4</td>\n",
       "      <td>123911</td>\n",
       "      <td>/3/39/</td>\n",
       "      <td>239</td>\n",
       "      <td>239</td>\n",
       "      <td>239</td>\n",
       "      <td>12.78</td>\n",
       "      <td>0.0</td>\n",
       "      <td>239.0</td>\n",
       "      <td>0.0</td>\n",
       "    </tr>\n",
       "  </tbody>\n",
       "</table>\n",
       "</div>"
      ],
      "text/plain": [
       "        origin sequence         creation_date client_document state  \\\n",
       "0  B2C Channel   614845  2018-02-28 16:52:40Z     X0AX9YK97K0    RJ   \n",
       "\n",
       "             city  neighborhood carrier delivery_deadline    status  \\\n",
       "0  Rio de Janeiro  Campo Grande   Sedex               4bd  Invoiced   \n",
       "\n",
       "        utmi payment_system_name installments  id_sku category_ids_sku  \\\n",
       "0   -  -  -           Mastercard            4  123911           /3/39/   \n",
       "\n",
       "  sku_value sku_selling_price sku_total_price  shipping_list_price  \\\n",
       "0       239               239             239                12.78   \n",
       "\n",
       "   shipping_value  total_value  discounts_totals  \n",
       "0             0.0        239.0               0.0  "
      ]
     },
     "execution_count": 8,
     "metadata": {},
     "output_type": "execute_result"
    }
   ],
   "source": [
    "df.head(num-2)"
   ]
  },
  {
   "cell_type": "markdown",
   "metadata": {},
   "source": [
    "We see below that there is something wrong with:\n",
    "- installments\n",
    "- sku_value\n",
    "- sku_selling_price\n",
    "- sku_total_price \n",
    "\n",
    "since they should be integers or floats and are, instead, objects."
   ]
  },
  {
   "cell_type": "code",
   "execution_count": 9,
   "metadata": {},
   "outputs": [
    {
     "data": {
      "text/plain": [
       "origin                  object\n",
       "sequence                object\n",
       "creation_date           object\n",
       "client_document         object\n",
       "state                   object\n",
       "city                    object\n",
       "neighborhood            object\n",
       "carrier                 object\n",
       "delivery_deadline       object\n",
       "status                  object\n",
       "utmi                    object\n",
       "payment_system_name     object\n",
       "installments            object\n",
       "id_sku                  object\n",
       "category_ids_sku        object\n",
       "sku_value               object\n",
       "sku_selling_price       object\n",
       "sku_total_price         object\n",
       "shipping_list_price    float64\n",
       "shipping_value         float64\n",
       "total_value            float64\n",
       "discounts_totals       float64\n",
       "dtype: object"
      ]
     },
     "execution_count": 9,
     "metadata": {},
     "output_type": "execute_result"
    }
   ],
   "source": [
    "df.dtypes"
   ]
  },
  {
   "cell_type": "markdown",
   "metadata": {},
   "source": [
    "### Let us convert them into numerical variables"
   ]
  },
  {
   "cell_type": "code",
   "execution_count": 10,
   "metadata": {},
   "outputs": [],
   "source": [
    "cols = ['installments', 'sku_value', \n",
    "        'sku_selling_price', 'sku_total_price']\n",
    "\n",
    "df[cols] = df[cols].apply(pd.to_numeric)"
   ]
  },
  {
   "cell_type": "markdown",
   "metadata": {},
   "source": [
    "### Note that `city` for example, has different entries corresponding to the same entity\n",
    "\n",
    "See for example `BARRA MANSA` and `Barra Mansa`. We can solve this specific issue by removing problematic characters. This is a temporary solution."
   ]
  },
  {
   "cell_type": "code",
   "execution_count": 11,
   "metadata": {},
   "outputs": [
    {
     "name": "stdout",
     "output_type": "stream",
     "text": [
      "Cities:\n",
      "\n"
     ]
    },
    {
     "data": {
      "text/html": [
       "<div>\n",
       "<style scoped>\n",
       "    .dataframe tbody tr th:only-of-type {\n",
       "        vertical-align: middle;\n",
       "    }\n",
       "\n",
       "    .dataframe tbody tr th {\n",
       "        vertical-align: top;\n",
       "    }\n",
       "\n",
       "    .dataframe thead th {\n",
       "        text-align: right;\n",
       "    }\n",
       "</style>\n",
       "<table border=\"1\" class=\"dataframe\">\n",
       "  <thead>\n",
       "    <tr style=\"text-align: right;\">\n",
       "      <th></th>\n",
       "      <th>Cities</th>\n",
       "    </tr>\n",
       "  </thead>\n",
       "  <tbody>\n",
       "    <tr>\n",
       "      <th>470</th>\n",
       "      <td>BARRA MANSA</td>\n",
       "    </tr>\n",
       "    <tr>\n",
       "      <th>206</th>\n",
       "      <td>BARRINHA</td>\n",
       "    </tr>\n",
       "    <tr>\n",
       "      <th>359</th>\n",
       "      <td>BELFORD ROXO</td>\n",
       "    </tr>\n",
       "    <tr>\n",
       "      <th>275</th>\n",
       "      <td>BLUMENAU</td>\n",
       "    </tr>\n",
       "    <tr>\n",
       "      <th>14</th>\n",
       "      <td>BRAS�LIA</td>\n",
       "    </tr>\n",
       "    <tr>\n",
       "      <th>513</th>\n",
       "      <td>Bag�</td>\n",
       "    </tr>\n",
       "    <tr>\n",
       "      <th>309</th>\n",
       "      <td>Balne�rio Cambori�</td>\n",
       "    </tr>\n",
       "    <tr>\n",
       "      <th>266</th>\n",
       "      <td>Bananal</td>\n",
       "    </tr>\n",
       "    <tr>\n",
       "      <th>7</th>\n",
       "      <td>Barbacena</td>\n",
       "    </tr>\n",
       "    <tr>\n",
       "      <th>182</th>\n",
       "      <td>Barbalha</td>\n",
       "    </tr>\n",
       "    <tr>\n",
       "      <th>452</th>\n",
       "      <td>Bariri</td>\n",
       "    </tr>\n",
       "    <tr>\n",
       "      <th>459</th>\n",
       "      <td>Barra Bonita</td>\n",
       "    </tr>\n",
       "    <tr>\n",
       "      <th>21</th>\n",
       "      <td>Barra Mansa</td>\n",
       "    </tr>\n",
       "  </tbody>\n",
       "</table>\n",
       "</div>"
      ],
      "text/plain": [
       "                 Cities\n",
       "470         BARRA MANSA\n",
       "206            BARRINHA\n",
       "359        BELFORD ROXO\n",
       "275            BLUMENAU\n",
       "14             BRAS�LIA\n",
       "513                Bag�\n",
       "309  Balne�rio Cambori�\n",
       "266             Bananal\n",
       "7             Barbacena\n",
       "182            Barbalha\n",
       "452              Bariri\n",
       "459        Barra Bonita\n",
       "21          Barra Mansa"
      ]
     },
     "execution_count": 11,
     "metadata": {},
     "output_type": "execute_result"
    }
   ],
   "source": [
    "print('Cities:\\n')\n",
    "pd.Series(df.city.unique()).sort_values().iloc[38:51].to_frame(name='Cities')"
   ]
  },
  {
   "cell_type": "code",
   "execution_count": 12,
   "metadata": {},
   "outputs": [],
   "source": [
    "cols = ['state','city','neighborhood',\n",
    "        'carrier','status','payment_system_name']\n",
    "df[cols] = df[cols].apply(lambda x: x.str.lower())"
   ]
  },
  {
   "cell_type": "code",
   "execution_count": 13,
   "metadata": {},
   "outputs": [],
   "source": [
    "import unidecode\n",
    "\n",
    "for col in cols:\n",
    "    df[col] = [unidecode.unidecode(str(row)) for row in df[col]]"
   ]
  },
  {
   "cell_type": "markdown",
   "metadata": {},
   "source": [
    "### The `origin` column has problems as well"
   ]
  },
  {
   "cell_type": "code",
   "execution_count": 14,
   "metadata": {},
   "outputs": [
    {
     "data": {
      "text/plain": [
       "B2C Channel                                                12375\n",
       "Marketplace                                                   49\n",
       "Vtex.Commerce.Oms.Helper.ReadWriteCsv+CsvRowB2C Channel        4\n",
       "Name: origin, dtype: int64"
      ]
     },
     "execution_count": 14,
     "metadata": {},
     "output_type": "execute_result"
    }
   ],
   "source": [
    "df['origin'].value_counts()"
   ]
  },
  {
   "cell_type": "code",
   "execution_count": 15,
   "metadata": {},
   "outputs": [],
   "source": [
    "df['origin'].replace('Vtex.Commerce.Oms.Helper.ReadWriteCsv+CsvRowB2C Channel',\n",
    "                     'B2C Channel', inplace=True)"
   ]
  },
  {
   "cell_type": "code",
   "execution_count": 16,
   "metadata": {},
   "outputs": [
    {
     "data": {
      "text/plain": [
       "B2C Channel    12379\n",
       "Marketplace       49\n",
       "Name: origin, dtype: int64"
      ]
     },
     "execution_count": 16,
     "metadata": {},
     "output_type": "execute_result"
    }
   ],
   "source": [
    "df['origin'].value_counts()"
   ]
  },
  {
   "cell_type": "markdown",
   "metadata": {},
   "source": [
    "### Number of unique clients"
   ]
  },
  {
   "cell_type": "code",
   "execution_count": 17,
   "metadata": {},
   "outputs": [
    {
     "data": {
      "text/plain": [
       "6295"
      ]
     },
     "execution_count": 17,
     "metadata": {},
     "output_type": "execute_result"
    }
   ],
   "source": [
    "df['client_document'].nunique()"
   ]
  },
  {
   "cell_type": "code",
   "execution_count": 18,
   "metadata": {},
   "outputs": [
    {
     "name": "stdout",
     "output_type": "stream",
     "text": [
      "origin : 2\n",
      "client_document : 6295\n",
      "state : 27\n",
      "city : 505\n",
      "neighborhood : 1527\n",
      "status : 3\n",
      "payment_system_name : 9\n"
     ]
    }
   ],
   "source": [
    "cols = ['origin', 'client_document', 'state', 'city', \n",
    "        'neighborhood', 'status', 'payment_system_name']\n",
    "\n",
    "for col in cols:\n",
    "    print(col,':', df[col].nunique())"
   ]
  },
  {
   "cell_type": "markdown",
   "metadata": {},
   "source": [
    "### Checking memory usage"
   ]
  },
  {
   "cell_type": "markdown",
   "metadata": {},
   "source": [
    "Checking memory usage is useful when `pandas` is dealing with very large datasets. This dataset is not particularly large but I will optimize it anyway and use the same code in the second part of the challenge.\n",
    "\n",
    "Below, choosing the parameter `deep` in the method `info()` provides more [accuracy](https://pandas.pydata.org/pandas-docs/stable/reference/api/pandas.DataFrame.info.html)."
   ]
  },
  {
   "cell_type": "code",
   "execution_count": 19,
   "metadata": {},
   "outputs": [
    {
     "name": "stdout",
     "output_type": "stream",
     "text": [
      "<class 'pandas.core.frame.DataFrame'>\n",
      "RangeIndex: 12428 entries, 0 to 12427\n",
      "Data columns (total 22 columns):\n",
      "origin                 12428 non-null object\n",
      "sequence               12428 non-null object\n",
      "creation_date          12428 non-null object\n",
      "client_document        12428 non-null object\n",
      "state                  12428 non-null object\n",
      "city                   12428 non-null object\n",
      "neighborhood           12428 non-null object\n",
      "carrier                12428 non-null object\n",
      "delivery_deadline      12428 non-null object\n",
      "status                 12428 non-null object\n",
      "utmi                   12428 non-null object\n",
      "payment_system_name    12428 non-null object\n",
      "installments           12428 non-null int64\n",
      "id_sku                 12428 non-null object\n",
      "category_ids_sku       12428 non-null object\n",
      "sku_value              12428 non-null float64\n",
      "sku_selling_price      12428 non-null float64\n",
      "sku_total_price        12428 non-null float64\n",
      "shipping_list_price    12428 non-null float64\n",
      "shipping_value         12428 non-null float64\n",
      "total_value            12428 non-null float64\n",
      "discounts_totals       12428 non-null float64\n",
      "dtypes: float64(7), int64(1), object(14)\n",
      "memory usage: 11.8 MB\n"
     ]
    }
   ],
   "source": [
    "df.info(memory_usage='deep') "
   ]
  },
  {
   "cell_type": "markdown",
   "metadata": {},
   "source": [
    "### Reducing memory usage"
   ]
  },
  {
   "cell_type": "markdown",
   "metadata": {},
   "source": [
    "Though the dataframe's memory usage is relatively low, it can be reduced. We can use a [function](https://www.dataquest.io/blog/pandas-big-data/) to memory reducing.\n",
    "Let us use a [function](https://www.dataquest.io/blog/pandas-big-data/) for that which assumes the input to be a `Dataframe`."
   ]
  },
  {
   "cell_type": "code",
   "execution_count": 20,
   "metadata": {},
   "outputs": [],
   "source": [
    "def compute_memory(x):\n",
    "    usage_mb = x.memory_usage(deep=True).sum()/(1024 ** 2 ) \n",
    "    return \"Total usage is {} MB\".format(usage_mb)"
   ]
  },
  {
   "cell_type": "markdown",
   "metadata": {},
   "source": [
    "### Downcasting to float32"
   ]
  },
  {
   "cell_type": "code",
   "execution_count": 21,
   "metadata": {},
   "outputs": [
    {
     "data": {
      "text/html": [
       "<div>\n",
       "<style scoped>\n",
       "    .dataframe tbody tr th:only-of-type {\n",
       "        vertical-align: middle;\n",
       "    }\n",
       "\n",
       "    .dataframe tbody tr th {\n",
       "        vertical-align: top;\n",
       "    }\n",
       "\n",
       "    .dataframe thead th {\n",
       "        text-align: right;\n",
       "    }\n",
       "</style>\n",
       "<table border=\"1\" class=\"dataframe\">\n",
       "  <thead>\n",
       "    <tr style=\"text-align: right;\">\n",
       "      <th></th>\n",
       "      <th>before</th>\n",
       "      <th>after</th>\n",
       "    </tr>\n",
       "  </thead>\n",
       "  <tbody>\n",
       "    <tr>\n",
       "      <th>sku_value</th>\n",
       "      <td>float64</td>\n",
       "      <td>float32</td>\n",
       "    </tr>\n",
       "    <tr>\n",
       "      <th>sku_selling_price</th>\n",
       "      <td>float64</td>\n",
       "      <td>float32</td>\n",
       "    </tr>\n",
       "    <tr>\n",
       "      <th>sku_total_price</th>\n",
       "      <td>float64</td>\n",
       "      <td>float32</td>\n",
       "    </tr>\n",
       "    <tr>\n",
       "      <th>shipping_list_price</th>\n",
       "      <td>float64</td>\n",
       "      <td>float32</td>\n",
       "    </tr>\n",
       "    <tr>\n",
       "      <th>shipping_value</th>\n",
       "      <td>float64</td>\n",
       "      <td>float32</td>\n",
       "    </tr>\n",
       "  </tbody>\n",
       "</table>\n",
       "</div>"
      ],
      "text/plain": [
       "                      before    after\n",
       "sku_value            float64  float32\n",
       "sku_selling_price    float64  float32\n",
       "sku_total_price      float64  float32\n",
       "shipping_list_price  float64  float32\n",
       "shipping_value       float64  float32"
      ]
     },
     "execution_count": 21,
     "metadata": {},
     "output_type": "execute_result"
    }
   ],
   "source": [
    "df_floats = df.select_dtypes(include=['float'])\n",
    "converted_float = df_floats.apply(pd.to_numeric, downcast='float')\n",
    "compare_floats = pd.concat([df_floats.dtypes, converted_float.dtypes],axis=1)\n",
    "compare_floats.columns = ['before','after']\n",
    "compare_floats.head()"
   ]
  },
  {
   "cell_type": "markdown",
   "metadata": {},
   "source": [
    "### Checking the memory gain:"
   ]
  },
  {
   "cell_type": "code",
   "execution_count": 22,
   "metadata": {},
   "outputs": [
    {
     "name": "stdout",
     "output_type": "stream",
     "text": [
      "<class 'pandas.core.frame.DataFrame'>\n",
      "RangeIndex: 12428 entries, 0 to 12427\n",
      "Data columns (total 22 columns):\n",
      "origin                 12428 non-null object\n",
      "sequence               12428 non-null object\n",
      "creation_date          12428 non-null object\n",
      "client_document        12428 non-null object\n",
      "state                  12428 non-null object\n",
      "city                   12428 non-null object\n",
      "neighborhood           12428 non-null object\n",
      "carrier                12428 non-null object\n",
      "delivery_deadline      12428 non-null object\n",
      "status                 12428 non-null object\n",
      "utmi                   12428 non-null object\n",
      "payment_system_name    12428 non-null object\n",
      "installments           12428 non-null int64\n",
      "id_sku                 12428 non-null object\n",
      "category_ids_sku       12428 non-null object\n",
      "sku_value              12428 non-null float32\n",
      "sku_selling_price      12428 non-null float32\n",
      "sku_total_price        12428 non-null float32\n",
      "shipping_list_price    12428 non-null float32\n",
      "shipping_value         12428 non-null float32\n",
      "total_value            12428 non-null float32\n",
      "discounts_totals       12428 non-null float32\n",
      "dtypes: float32(7), int64(1), object(14)\n",
      "memory usage: 11.5 MB\n"
     ]
    }
   ],
   "source": [
    "optimized_df = df.copy()\n",
    "optimized_df[converted_float.columns] = converted_float\n",
    "df = optimized_df.copy()\n",
    "df.info(memory_usage='deep')\n",
    "\n",
    "df.to_csv('df_clean.csv')"
   ]
  },
  {
   "cell_type": "code",
   "execution_count": 23,
   "metadata": {},
   "outputs": [
    {
     "data": {
      "text/html": [
       "<div>\n",
       "<style scoped>\n",
       "    .dataframe tbody tr th:only-of-type {\n",
       "        vertical-align: middle;\n",
       "    }\n",
       "\n",
       "    .dataframe tbody tr th {\n",
       "        vertical-align: top;\n",
       "    }\n",
       "\n",
       "    .dataframe thead th {\n",
       "        text-align: right;\n",
       "    }\n",
       "</style>\n",
       "<table border=\"1\" class=\"dataframe\">\n",
       "  <thead>\n",
       "    <tr style=\"text-align: right;\">\n",
       "      <th></th>\n",
       "      <th>origin</th>\n",
       "      <th>sequence</th>\n",
       "      <th>creation_date</th>\n",
       "      <th>client_document</th>\n",
       "      <th>state</th>\n",
       "      <th>city</th>\n",
       "      <th>neighborhood</th>\n",
       "      <th>carrier</th>\n",
       "      <th>delivery_deadline</th>\n",
       "      <th>status</th>\n",
       "      <th>utmi</th>\n",
       "      <th>payment_system_name</th>\n",
       "      <th>installments</th>\n",
       "      <th>id_sku</th>\n",
       "      <th>category_ids_sku</th>\n",
       "      <th>sku_value</th>\n",
       "      <th>sku_selling_price</th>\n",
       "      <th>sku_total_price</th>\n",
       "      <th>shipping_list_price</th>\n",
       "      <th>shipping_value</th>\n",
       "      <th>total_value</th>\n",
       "      <th>discounts_totals</th>\n",
       "    </tr>\n",
       "  </thead>\n",
       "  <tbody>\n",
       "    <tr>\n",
       "      <th>0</th>\n",
       "      <td>B2C Channel</td>\n",
       "      <td>614845</td>\n",
       "      <td>2018-02-28 16:52:40Z</td>\n",
       "      <td>X0AX9YK97K0</td>\n",
       "      <td>rj</td>\n",
       "      <td>rio de janeiro</td>\n",
       "      <td>campo grande</td>\n",
       "      <td>sedex</td>\n",
       "      <td>4bd</td>\n",
       "      <td>invoiced</td>\n",
       "      <td>-  -  -</td>\n",
       "      <td>mastercard</td>\n",
       "      <td>4</td>\n",
       "      <td>123911</td>\n",
       "      <td>/3/39/</td>\n",
       "      <td>239.0</td>\n",
       "      <td>239.0</td>\n",
       "      <td>239.0</td>\n",
       "      <td>12.78</td>\n",
       "      <td>0.0</td>\n",
       "      <td>239.0</td>\n",
       "      <td>0.0</td>\n",
       "    </tr>\n",
       "    <tr>\n",
       "      <th>1</th>\n",
       "      <td>B2C Channel</td>\n",
       "      <td>614737</td>\n",
       "      <td>2018-02-28 01:09:59Z</td>\n",
       "      <td>X0YKY79YK0K</td>\n",
       "      <td>mg</td>\n",
       "      <td>carangola</td>\n",
       "      <td>santa maria</td>\n",
       "      <td>sedex</td>\n",
       "      <td>6bd</td>\n",
       "      <td>invoiced</td>\n",
       "      <td>-  -  -</td>\n",
       "      <td>mastercard</td>\n",
       "      <td>4</td>\n",
       "      <td>116363</td>\n",
       "      <td>/3/36/</td>\n",
       "      <td>239.0</td>\n",
       "      <td>239.0</td>\n",
       "      <td>239.0</td>\n",
       "      <td>41.35</td>\n",
       "      <td>0.0</td>\n",
       "      <td>239.0</td>\n",
       "      <td>0.0</td>\n",
       "    </tr>\n",
       "    <tr>\n",
       "      <th>2</th>\n",
       "      <td>B2C Channel</td>\n",
       "      <td>614752</td>\n",
       "      <td>2018-02-28 02:29:28Z</td>\n",
       "      <td>XBY0YBXA709</td>\n",
       "      <td>rj</td>\n",
       "      <td>rio de janeiro</td>\n",
       "      <td>maracan</td>\n",
       "      <td>ciclo verde</td>\n",
       "      <td>2bd</td>\n",
       "      <td>ready for shipping</td>\n",
       "      <td>-  -  -</td>\n",
       "      <td>mastercard</td>\n",
       "      <td>5</td>\n",
       "      <td>122075</td>\n",
       "      <td>/3/42/</td>\n",
       "      <td>199.0</td>\n",
       "      <td>159.2</td>\n",
       "      <td>199.0</td>\n",
       "      <td>4.22</td>\n",
       "      <td>0.0</td>\n",
       "      <td>397.6</td>\n",
       "      <td>-99.4</td>\n",
       "    </tr>\n",
       "    <tr>\n",
       "      <th>3</th>\n",
       "      <td>B2C Channel</td>\n",
       "      <td>614752</td>\n",
       "      <td>2018-02-28 02:29:28Z</td>\n",
       "      <td>XBY0YBXA709</td>\n",
       "      <td>rj</td>\n",
       "      <td>rio de janeiro</td>\n",
       "      <td>maracan</td>\n",
       "      <td>ciclo verde</td>\n",
       "      <td>2bd</td>\n",
       "      <td>ready for shipping</td>\n",
       "      <td>-  -  -</td>\n",
       "      <td>mastercard</td>\n",
       "      <td>5</td>\n",
       "      <td>126811</td>\n",
       "      <td>/3/39/</td>\n",
       "      <td>199.0</td>\n",
       "      <td>159.2</td>\n",
       "      <td>199.0</td>\n",
       "      <td>4.24</td>\n",
       "      <td>0.0</td>\n",
       "      <td>397.6</td>\n",
       "      <td>-99.4</td>\n",
       "    </tr>\n",
       "    <tr>\n",
       "      <th>4</th>\n",
       "      <td>B2C Channel</td>\n",
       "      <td>614752</td>\n",
       "      <td>2018-02-28 02:29:28Z</td>\n",
       "      <td>XBY0YBXA709</td>\n",
       "      <td>rj</td>\n",
       "      <td>rio de janeiro</td>\n",
       "      <td>maracan</td>\n",
       "      <td>ciclo verde</td>\n",
       "      <td>2bd</td>\n",
       "      <td>ready for shipping</td>\n",
       "      <td>-  -  -</td>\n",
       "      <td>mastercard</td>\n",
       "      <td>5</td>\n",
       "      <td>122038</td>\n",
       "      <td>/1/6/28/</td>\n",
       "      <td>99.0</td>\n",
       "      <td>79.2</td>\n",
       "      <td>99.0</td>\n",
       "      <td>1.52</td>\n",
       "      <td>0.0</td>\n",
       "      <td>397.6</td>\n",
       "      <td>-99.4</td>\n",
       "    </tr>\n",
       "  </tbody>\n",
       "</table>\n",
       "</div>"
      ],
      "text/plain": [
       "        origin  sequence         creation_date client_document state  \\\n",
       "0  B2C Channel    614845  2018-02-28 16:52:40Z     X0AX9YK97K0    rj   \n",
       "1  B2C Channel    614737  2018-02-28 01:09:59Z     X0YKY79YK0K    mg   \n",
       "2  B2C Channel    614752  2018-02-28 02:29:28Z     XBY0YBXA709    rj   \n",
       "3  B2C Channel    614752  2018-02-28 02:29:28Z     XBY0YBXA709    rj   \n",
       "4  B2C Channel    614752  2018-02-28 02:29:28Z     XBY0YBXA709    rj   \n",
       "\n",
       "             city  neighborhood      carrier delivery_deadline  \\\n",
       "0  rio de janeiro  campo grande        sedex               4bd   \n",
       "1       carangola   santa maria        sedex               6bd   \n",
       "2  rio de janeiro       maracan  ciclo verde               2bd   \n",
       "3  rio de janeiro       maracan  ciclo verde               2bd   \n",
       "4  rio de janeiro       maracan  ciclo verde               2bd   \n",
       "\n",
       "               status       utmi payment_system_name  installments  id_sku  \\\n",
       "0            invoiced   -  -  -           mastercard             4  123911   \n",
       "1            invoiced   -  -  -           mastercard             4  116363   \n",
       "2  ready for shipping   -  -  -           mastercard             5  122075   \n",
       "3  ready for shipping   -  -  -           mastercard             5  126811   \n",
       "4  ready for shipping   -  -  -           mastercard             5  122038   \n",
       "\n",
       "  category_ids_sku  sku_value  sku_selling_price  sku_total_price  \\\n",
       "0           /3/39/      239.0              239.0            239.0   \n",
       "1           /3/36/      239.0              239.0            239.0   \n",
       "2           /3/42/      199.0              159.2            199.0   \n",
       "3           /3/39/      199.0              159.2            199.0   \n",
       "4         /1/6/28/       99.0               79.2             99.0   \n",
       "\n",
       "   shipping_list_price  shipping_value  total_value  discounts_totals  \n",
       "0                12.78             0.0        239.0               0.0  \n",
       "1                41.35             0.0        239.0               0.0  \n",
       "2                 4.22             0.0        397.6             -99.4  \n",
       "3                 4.24             0.0        397.6             -99.4  \n",
       "4                 1.52             0.0        397.6             -99.4  "
      ]
     },
     "execution_count": 23,
     "metadata": {},
     "output_type": "execute_result"
    }
   ],
   "source": [
    "df = pd.read_csv('df_clean.csv')\n",
    "df = df.iloc[:,1:]\n",
    "df.head()"
   ]
  },
  {
   "cell_type": "markdown",
   "metadata": {},
   "source": [
    "## Exploratory Data Analysis \n",
    "[[go back to the top]](#Table-of-contents)"
   ]
  },
  {
   "cell_type": "code",
   "execution_count": 24,
   "metadata": {},
   "outputs": [],
   "source": [
    "cols = ['sequence','installments', 'id_sku', \n",
    "        'category_ids_sku', 'sku_value', 'sku_selling_price', 'sku_total_price', \n",
    "        'shipping_list_price', 'shipping_value', 'total_value', 'discounts_totals']"
   ]
  },
  {
   "cell_type": "markdown",
   "metadata": {},
   "source": [
    "### The column  `sequence` defines an order, which may contain several SKUs"
   ]
  },
  {
   "cell_type": "code",
   "execution_count": 25,
   "metadata": {},
   "outputs": [
    {
     "data": {
      "text/html": [
       "<div>\n",
       "<style scoped>\n",
       "    .dataframe tbody tr th:only-of-type {\n",
       "        vertical-align: middle;\n",
       "    }\n",
       "\n",
       "    .dataframe tbody tr th {\n",
       "        vertical-align: top;\n",
       "    }\n",
       "\n",
       "    .dataframe thead th {\n",
       "        text-align: right;\n",
       "    }\n",
       "</style>\n",
       "<table border=\"1\" class=\"dataframe\">\n",
       "  <thead>\n",
       "    <tr style=\"text-align: right;\">\n",
       "      <th></th>\n",
       "      <th>total_value_per_client</th>\n",
       "    </tr>\n",
       "    <tr>\n",
       "      <th>client_document</th>\n",
       "      <th></th>\n",
       "    </tr>\n",
       "  </thead>\n",
       "  <tbody>\n",
       "    <tr>\n",
       "      <th>7213315722</th>\n",
       "      <td>81871.95</td>\n",
       "    </tr>\n",
       "    <tr>\n",
       "      <th>4333596173</th>\n",
       "      <td>60044.40</td>\n",
       "    </tr>\n",
       "    <tr>\n",
       "      <th>AB0870YB888</th>\n",
       "      <td>35190.54</td>\n",
       "    </tr>\n",
       "    <tr>\n",
       "      <th>5368706758</th>\n",
       "      <td>29216.20</td>\n",
       "    </tr>\n",
       "    <tr>\n",
       "      <th>5129001320</th>\n",
       "      <td>26117.60</td>\n",
       "    </tr>\n",
       "  </tbody>\n",
       "</table>\n",
       "</div>"
      ],
      "text/plain": [
       "                 total_value_per_client\n",
       "client_document                        \n",
       "7213315722                     81871.95\n",
       "4333596173                     60044.40\n",
       "AB0870YB888                    35190.54\n",
       "5368706758                     29216.20\n",
       "5129001320                     26117.60"
      ]
     },
     "execution_count": 25,
     "metadata": {},
     "output_type": "execute_result"
    }
   ],
   "source": [
    "data = df[['client_document','state',\n",
    "           'city','neighborhood',\n",
    "           'sequence', 'total_value']]\n",
    "\n",
    "df1 = data.copy()\n",
    "\n",
    "df1 = df1['total_value'].groupby(df1['client_document']).sum()\n",
    "df1 = df1.sort_values(ascending=False)\n",
    "df1 = df1.to_frame(name='total_value_per_client')\n",
    "df1.head()"
   ]
  },
  {
   "cell_type": "code",
   "execution_count": 26,
   "metadata": {},
   "outputs": [
    {
     "data": {
      "image/png": "[encoded data removed]",
      "text/plain": [
       "<matplotlib.figure.Figure at 0x1a127cae80>"
      ]
     },
     "metadata": {},
     "output_type": "display_data"
    }
   ],
   "source": [
    "df1['client_document'] = df1.index\n",
    "sns.set(style=\"whitegrid\")\n",
    "sns.set(rc={'figure.figsize':(15,5.27)})\n",
    "ax = sns.barplot(x=\"client_document\", y=\"total_value_per_client\", data=df1.iloc[:10,:])"
   ]
  },
  {
   "cell_type": "code",
   "execution_count": 27,
   "metadata": {},
   "outputs": [
    {
     "data": {
      "text/html": [
       "<div>\n",
       "<style scoped>\n",
       "    .dataframe tbody tr th:only-of-type {\n",
       "        vertical-align: middle;\n",
       "    }\n",
       "\n",
       "    .dataframe tbody tr th {\n",
       "        vertical-align: top;\n",
       "    }\n",
       "\n",
       "    .dataframe thead th {\n",
       "        text-align: right;\n",
       "    }\n",
       "</style>\n",
       "<table border=\"1\" class=\"dataframe\">\n",
       "  <thead>\n",
       "    <tr style=\"text-align: right;\">\n",
       "      <th></th>\n",
       "      <th>total_value_per_neighborhood</th>\n",
       "    </tr>\n",
       "    <tr>\n",
       "      <th>neighborhood</th>\n",
       "      <th></th>\n",
       "    </tr>\n",
       "  </thead>\n",
       "  <tbody>\n",
       "    <tr>\n",
       "      <th>centro</th>\n",
       "      <td>477544.61</td>\n",
       "    </tr>\n",
       "    <tr>\n",
       "      <th>tijuca</th>\n",
       "      <td>143773.29</td>\n",
       "    </tr>\n",
       "    <tr>\n",
       "      <th>cachambi</th>\n",
       "      <td>134236.70</td>\n",
       "    </tr>\n",
       "    <tr>\n",
       "      <th>santos dumont</th>\n",
       "      <td>107832.84</td>\n",
       "    </tr>\n",
       "    <tr>\n",
       "      <th>botafogo</th>\n",
       "      <td>96018.67</td>\n",
       "    </tr>\n",
       "  </tbody>\n",
       "</table>\n",
       "</div>"
      ],
      "text/plain": [
       "               total_value_per_neighborhood\n",
       "neighborhood                               \n",
       "centro                            477544.61\n",
       "tijuca                            143773.29\n",
       "cachambi                          134236.70\n",
       "santos dumont                     107832.84\n",
       "botafogo                           96018.67"
      ]
     },
     "execution_count": 27,
     "metadata": {},
     "output_type": "execute_result"
    }
   ],
   "source": [
    "df2 = data.copy()\n",
    "\n",
    "df2 = df2['total_value'].groupby(df2['neighborhood']).sum()\n",
    "df2 = df2.sort_values(ascending=False).to_frame(name='total_value_per_neighborhood')\n",
    "df2.head()\n",
    "df2['neighborhood'] = df2.index"
   ]
  },
  {
   "cell_type": "code",
   "execution_count": 28,
   "metadata": {},
   "outputs": [
    {
     "data": {
      "image/png": "[encoded data removed]",
      "text/plain": [
       "<matplotlib.figure.Figure at 0x1a13cb0ac8>"
      ]
     },
     "metadata": {},
     "output_type": "display_data"
    }
   ],
   "source": [
    "sns.set(style=\"whitegrid\")\n",
    "sns.set(rc={'figure.figsize':(15,5.27)})\n",
    "ax = sns.barplot(x=\"neighborhood\", y=\"total_value_per_neighborhood\", data=df2.iloc[:10,:],orient='v')"
   ]
  },
  {
   "cell_type": "code",
   "execution_count": 29,
   "metadata": {},
   "outputs": [
    {
     "data": {
      "text/html": [
       "<div>\n",
       "<style scoped>\n",
       "    .dataframe tbody tr th:only-of-type {\n",
       "        vertical-align: middle;\n",
       "    }\n",
       "\n",
       "    .dataframe tbody tr th {\n",
       "        vertical-align: top;\n",
       "    }\n",
       "\n",
       "    .dataframe thead th {\n",
       "        text-align: right;\n",
       "    }\n",
       "</style>\n",
       "<table border=\"1\" class=\"dataframe\">\n",
       "  <thead>\n",
       "    <tr style=\"text-align: right;\">\n",
       "      <th></th>\n",
       "      <th>total_value_per_state</th>\n",
       "    </tr>\n",
       "    <tr>\n",
       "      <th>state</th>\n",
       "      <th></th>\n",
       "    </tr>\n",
       "  </thead>\n",
       "  <tbody>\n",
       "    <tr>\n",
       "      <th>rj</th>\n",
       "      <td>2513766.97</td>\n",
       "    </tr>\n",
       "    <tr>\n",
       "      <th>sp</th>\n",
       "      <td>353627.61</td>\n",
       "    </tr>\n",
       "    <tr>\n",
       "      <th>mg</th>\n",
       "      <td>255238.78</td>\n",
       "    </tr>\n",
       "    <tr>\n",
       "      <th>se</th>\n",
       "      <td>203092.41</td>\n",
       "    </tr>\n",
       "    <tr>\n",
       "      <th>pa</th>\n",
       "      <td>145371.40</td>\n",
       "    </tr>\n",
       "  </tbody>\n",
       "</table>\n",
       "</div>"
      ],
      "text/plain": [
       "       total_value_per_state\n",
       "state                       \n",
       "rj                2513766.97\n",
       "sp                 353627.61\n",
       "mg                 255238.78\n",
       "se                 203092.41\n",
       "pa                 145371.40"
      ]
     },
     "execution_count": 29,
     "metadata": {},
     "output_type": "execute_result"
    }
   ],
   "source": [
    "df4 = data.copy()\n",
    "\n",
    "df4 = df4['total_value'].groupby(df4['state']).sum()\n",
    "df4 = df4.sort_values(ascending=False).to_frame(name='total_value_per_state')\n",
    "df4.head()\n",
    "df4['state'] = df4.index"
   ]
  },
  {
   "cell_type": "code",
   "execution_count": 30,
   "metadata": {},
   "outputs": [
    {
     "data": {
      "image/png": "[encoded data removed]",
      "text/plain": [
       "<matplotlib.figure.Figure at 0x1a128b5710>"
      ]
     },
     "metadata": {},
     "output_type": "display_data"
    }
   ],
   "source": [
    "sns.set(style=\"whitegrid\")\n",
    "sns.set(rc={'figure.figsize':(15,5.27)})\n",
    "ax = sns.barplot(x=\"state\", y=\"total_value_per_state\", data=df4.iloc[:6,:])"
   ]
  },
  {
   "cell_type": "code",
   "execution_count": 31,
   "metadata": {},
   "outputs": [
    {
     "data": {
      "text/html": [
       "<div>\n",
       "<style scoped>\n",
       "    .dataframe tbody tr th:only-of-type {\n",
       "        vertical-align: middle;\n",
       "    }\n",
       "\n",
       "    .dataframe tbody tr th {\n",
       "        vertical-align: top;\n",
       "    }\n",
       "\n",
       "    .dataframe thead th {\n",
       "        text-align: right;\n",
       "    }\n",
       "</style>\n",
       "<table border=\"1\" class=\"dataframe\">\n",
       "  <thead>\n",
       "    <tr style=\"text-align: right;\">\n",
       "      <th></th>\n",
       "      <th>total_value_per_city</th>\n",
       "    </tr>\n",
       "    <tr>\n",
       "      <th>city</th>\n",
       "      <th></th>\n",
       "    </tr>\n",
       "  </thead>\n",
       "  <tbody>\n",
       "    <tr>\n",
       "      <th>rio de janeiro</th>\n",
       "      <td>1686175.25</td>\n",
       "    </tr>\n",
       "    <tr>\n",
       "      <th>aracaju</th>\n",
       "      <td>201882.48</td>\n",
       "    </tr>\n",
       "    <tr>\n",
       "      <th>so paulo</th>\n",
       "      <td>185235.12</td>\n",
       "    </tr>\n",
       "    <tr>\n",
       "      <th>nova iguau</th>\n",
       "      <td>140898.18</td>\n",
       "    </tr>\n",
       "    <tr>\n",
       "      <th>duque de caxias</th>\n",
       "      <td>129231.78</td>\n",
       "    </tr>\n",
       "  </tbody>\n",
       "</table>\n",
       "</div>"
      ],
      "text/plain": [
       "                 total_value_per_city\n",
       "city                                 \n",
       "rio de janeiro             1686175.25\n",
       "aracaju                     201882.48\n",
       "so paulo                    185235.12\n",
       "nova iguau                  140898.18\n",
       "duque de caxias             129231.78"
      ]
     },
     "execution_count": 31,
     "metadata": {},
     "output_type": "execute_result"
    },
    {
     "data": {
      "text/plain": [
       "(505, 1)"
      ]
     },
     "execution_count": 31,
     "metadata": {},
     "output_type": "execute_result"
    }
   ],
   "source": [
    "df5 = data.copy()\n",
    "df5 = df5['total_value'].groupby(df5['city']).sum()\n",
    "df5 = df5.sort_values(ascending=False).to_frame(name='total_value_per_city')\n",
    "df5.head()\n",
    "df5.shape\n",
    "df5['city'] = df5.index"
   ]
  },
  {
   "cell_type": "code",
   "execution_count": 32,
   "metadata": {},
   "outputs": [
    {
     "data": {
      "image/png": "[encoded data removed]",
      "text/plain": [
       "<matplotlib.figure.Figure at 0x1a13cb0668>"
      ]
     },
     "metadata": {},
     "output_type": "display_data"
    }
   ],
   "source": [
    "sns.set(style=\"whitegrid\")\n",
    "sns.set(rc={'figure.figsize':(15,5.27)})\n",
    "ax = sns.barplot(x=\"city\", y=\"total_value_per_city\", data=df5.iloc[:10,:])"
   ]
  },
  {
   "cell_type": "markdown",
   "metadata": {},
   "source": [
    "### Excluding `rio de janeiro`"
   ]
  },
  {
   "cell_type": "code",
   "execution_count": 33,
   "metadata": {},
   "outputs": [
    {
     "data": {
      "image/png": "[encoded data removed]",
      "text/plain": [
       "<matplotlib.figure.Figure at 0x1a13f277b8>"
      ]
     },
     "metadata": {},
     "output_type": "display_data"
    }
   ],
   "source": [
    "sns.set(style=\"whitegrid\")\n",
    "sns.set(rc={'figure.figsize':(15,5.27)})\n",
    "ax = sns.barplot(x=\"city\", y=\"total_value_per_city\", data=df5.iloc[1:10,:])"
   ]
  },
  {
   "cell_type": "markdown",
   "metadata": {},
   "source": [
    "### Total value per `sequence` i.e. per purchase "
   ]
  },
  {
   "cell_type": "code",
   "execution_count": 34,
   "metadata": {},
   "outputs": [
    {
     "data": {
      "text/plain": [
       "total_value_per_purchase    float64\n",
       "sequence                     object\n",
       "dtype: object"
      ]
     },
     "execution_count": 34,
     "metadata": {},
     "output_type": "execute_result"
    },
    {
     "data": {
      "text/html": [
       "<div>\n",
       "<style scoped>\n",
       "    .dataframe tbody tr th:only-of-type {\n",
       "        vertical-align: middle;\n",
       "    }\n",
       "\n",
       "    .dataframe tbody tr th {\n",
       "        vertical-align: top;\n",
       "    }\n",
       "\n",
       "    .dataframe thead th {\n",
       "        text-align: right;\n",
       "    }\n",
       "</style>\n",
       "<table border=\"1\" class=\"dataframe\">\n",
       "  <thead>\n",
       "    <tr style=\"text-align: right;\">\n",
       "      <th></th>\n",
       "      <th>sequence</th>\n",
       "      <th>total_value_per_purchase</th>\n",
       "      <th>purchase</th>\n",
       "    </tr>\n",
       "  </thead>\n",
       "  <tbody>\n",
       "    <tr>\n",
       "      <th>0</th>\n",
       "      <td>653493</td>\n",
       "      <td>81871.95</td>\n",
       "      <td>0</td>\n",
       "    </tr>\n",
       "    <tr>\n",
       "      <th>1</th>\n",
       "      <td>624290</td>\n",
       "      <td>46184.40</td>\n",
       "      <td>1</td>\n",
       "    </tr>\n",
       "    <tr>\n",
       "      <th>2</th>\n",
       "      <td>622809</td>\n",
       "      <td>35190.54</td>\n",
       "      <td>2</td>\n",
       "    </tr>\n",
       "    <tr>\n",
       "      <th>3</th>\n",
       "      <td>644022</td>\n",
       "      <td>29216.20</td>\n",
       "      <td>3</td>\n",
       "    </tr>\n",
       "    <tr>\n",
       "      <th>4</th>\n",
       "      <td>643430</td>\n",
       "      <td>24650.88</td>\n",
       "      <td>4</td>\n",
       "    </tr>\n",
       "  </tbody>\n",
       "</table>\n",
       "</div>"
      ],
      "text/plain": [
       "   sequence  total_value_per_purchase  purchase\n",
       "0    653493                  81871.95         0\n",
       "1    624290                  46184.40         1\n",
       "2    622809                  35190.54         2\n",
       "3    644022                  29216.20         3\n",
       "4    643430                  24650.88         4"
      ]
     },
     "execution_count": 34,
     "metadata": {},
     "output_type": "execute_result"
    }
   ],
   "source": [
    "df1 = data.copy()\n",
    "\n",
    "df1 = df1['total_value'].groupby(df1['sequence']).sum()\n",
    "df1 = df1.to_frame(name='total_value_per_purchase')\n",
    "df1['sequence'] = df1.index\n",
    "df1['sequence'] = [str(x) for x in df1['sequence']]\n",
    "df1.dtypes\n",
    "df2 = pd.DataFrame()\n",
    "\n",
    "df2 = pd.DataFrame(columns=['sequence', 'total_value_per_purchase'])\n",
    "df2['sequence'] = df1.index\n",
    "df2['total_value_per_purchase'] = list(df1['total_value_per_purchase'])\n",
    "df2 = df2.sort_values(by='total_value_per_purchase', ascending=False)\n",
    "df2.reset_index(inplace=True, drop=True)\n",
    "df2['purchase'] = df2.index\n",
    "df2.head()"
   ]
  },
  {
   "cell_type": "markdown",
   "metadata": {},
   "source": [
    "### Dictionary"
   ]
  },
  {
   "cell_type": "code",
   "execution_count": 35,
   "metadata": {},
   "outputs": [
    {
     "data": {
      "text/html": [
       "<div>\n",
       "<style scoped>\n",
       "    .dataframe tbody tr th:only-of-type {\n",
       "        vertical-align: middle;\n",
       "    }\n",
       "\n",
       "    .dataframe tbody tr th {\n",
       "        vertical-align: top;\n",
       "    }\n",
       "\n",
       "    .dataframe thead th {\n",
       "        text-align: right;\n",
       "    }\n",
       "</style>\n",
       "<table border=\"1\" class=\"dataframe\">\n",
       "  <thead>\n",
       "    <tr style=\"text-align: right;\">\n",
       "      <th></th>\n",
       "      <th>purchase</th>\n",
       "      <th>sequence</th>\n",
       "    </tr>\n",
       "  </thead>\n",
       "  <tbody>\n",
       "    <tr>\n",
       "      <th>0</th>\n",
       "      <td>0</td>\n",
       "      <td>653493</td>\n",
       "    </tr>\n",
       "    <tr>\n",
       "      <th>1</th>\n",
       "      <td>1</td>\n",
       "      <td>624290</td>\n",
       "    </tr>\n",
       "    <tr>\n",
       "      <th>2</th>\n",
       "      <td>2</td>\n",
       "      <td>622809</td>\n",
       "    </tr>\n",
       "    <tr>\n",
       "      <th>3</th>\n",
       "      <td>3</td>\n",
       "      <td>644022</td>\n",
       "    </tr>\n",
       "    <tr>\n",
       "      <th>4</th>\n",
       "      <td>4</td>\n",
       "      <td>643430</td>\n",
       "    </tr>\n",
       "  </tbody>\n",
       "</table>\n",
       "</div>"
      ],
      "text/plain": [
       "   purchase  sequence\n",
       "0         0    653493\n",
       "1         1    624290\n",
       "2         2    622809\n",
       "3         3    644022\n",
       "4         4    643430"
      ]
     },
     "execution_count": 35,
     "metadata": {},
     "output_type": "execute_result"
    }
   ],
   "source": [
    "dictionary = df2[['purchase', 'sequence']].copy()\n",
    "dictionary.head()"
   ]
  },
  {
   "cell_type": "code",
   "execution_count": 36,
   "metadata": {},
   "outputs": [
    {
     "data": {
      "image/png": "[encoded data removed]",
      "text/plain": [
       "<matplotlib.figure.Figure at 0x1a13f1f320>"
      ]
     },
     "metadata": {},
     "output_type": "display_data"
    }
   ],
   "source": [
    "sns.set(style=\"whitegrid\")\n",
    "sns.set(rc={'figure.figsize':(15,5.27)})\n",
    "ax = sns.barplot(x=\"purchase\", y=\"total_value_per_purchase\", data=df2.iloc[:55,:])"
   ]
  },
  {
   "cell_type": "markdown",
   "metadata": {},
   "source": [
    "### Exemplo de um evento de compra envolvendo varios SKUs\n",
    "A compra total é definida pela `sequence` e os produtos sao definidos por `id_sku`. Repare que as datas `creation_date` são as mesmas e estão em correspondencia 1-1 com as `sequences`.\n",
    "\n",
    "Esse documento\n",
    "\n",
    "    doc = '5129001320'\n",
    "    \n",
    "é uma escolha qualquer."
   ]
  },
  {
   "cell_type": "code",
   "execution_count": 37,
   "metadata": {},
   "outputs": [
    {
     "data": {
      "text/html": [
       "<div>\n",
       "<style scoped>\n",
       "    .dataframe tbody tr th:only-of-type {\n",
       "        vertical-align: middle;\n",
       "    }\n",
       "\n",
       "    .dataframe tbody tr th {\n",
       "        vertical-align: top;\n",
       "    }\n",
       "\n",
       "    .dataframe thead th {\n",
       "        text-align: right;\n",
       "    }\n",
       "</style>\n",
       "<table border=\"1\" class=\"dataframe\">\n",
       "  <thead>\n",
       "    <tr style=\"text-align: right;\">\n",
       "      <th></th>\n",
       "      <th>origin</th>\n",
       "      <th>sequence</th>\n",
       "      <th>installments</th>\n",
       "      <th>creation_date</th>\n",
       "      <th>id_sku</th>\n",
       "      <th>category_ids_sku</th>\n",
       "      <th>sku_value</th>\n",
       "      <th>sku_selling_price</th>\n",
       "      <th>sku_total_price</th>\n",
       "      <th>shipping_list_price</th>\n",
       "      <th>shipping_value</th>\n",
       "      <th>total_value</th>\n",
       "      <th>discounts_totals</th>\n",
       "    </tr>\n",
       "  </thead>\n",
       "  <tbody>\n",
       "    <tr>\n",
       "      <th>5181</th>\n",
       "      <td>B2C Channel</td>\n",
       "      <td>635283</td>\n",
       "      <td>5</td>\n",
       "      <td>2018-06-06 22:23:42Z</td>\n",
       "      <td>131436</td>\n",
       "      <td>/3/</td>\n",
       "      <td>299.0</td>\n",
       "      <td>299.0</td>\n",
       "      <td>299.0</td>\n",
       "      <td>14.88</td>\n",
       "      <td>0.0</td>\n",
       "      <td>915.0</td>\n",
       "      <td>0.0</td>\n",
       "    </tr>\n",
       "    <tr>\n",
       "      <th>5182</th>\n",
       "      <td>B2C Channel</td>\n",
       "      <td>635283</td>\n",
       "      <td>5</td>\n",
       "      <td>2018-06-06 22:23:42Z</td>\n",
       "      <td>131485</td>\n",
       "      <td>/1/6/28/</td>\n",
       "      <td>179.0</td>\n",
       "      <td>179.0</td>\n",
       "      <td>179.0</td>\n",
       "      <td>6.38</td>\n",
       "      <td>0.0</td>\n",
       "      <td>915.0</td>\n",
       "      <td>0.0</td>\n",
       "    </tr>\n",
       "    <tr>\n",
       "      <th>5183</th>\n",
       "      <td>B2C Channel</td>\n",
       "      <td>635283</td>\n",
       "      <td>5</td>\n",
       "      <td>2018-06-06 22:23:42Z</td>\n",
       "      <td>129067</td>\n",
       "      <td>/1/6/28/</td>\n",
       "      <td>199.0</td>\n",
       "      <td>199.0</td>\n",
       "      <td>199.0</td>\n",
       "      <td>5.32</td>\n",
       "      <td>0.0</td>\n",
       "      <td>915.0</td>\n",
       "      <td>0.0</td>\n",
       "    </tr>\n",
       "    <tr>\n",
       "      <th>5184</th>\n",
       "      <td>B2C Channel</td>\n",
       "      <td>635283</td>\n",
       "      <td>5</td>\n",
       "      <td>2018-06-06 22:23:42Z</td>\n",
       "      <td>127646</td>\n",
       "      <td>/1/6/28/</td>\n",
       "      <td>139.0</td>\n",
       "      <td>139.0</td>\n",
       "      <td>139.0</td>\n",
       "      <td>5.32</td>\n",
       "      <td>0.0</td>\n",
       "      <td>915.0</td>\n",
       "      <td>0.0</td>\n",
       "    </tr>\n",
       "    <tr>\n",
       "      <th>5185</th>\n",
       "      <td>B2C Channel</td>\n",
       "      <td>635283</td>\n",
       "      <td>5</td>\n",
       "      <td>2018-06-06 22:23:42Z</td>\n",
       "      <td>128064</td>\n",
       "      <td>/1/6/28/</td>\n",
       "      <td>99.0</td>\n",
       "      <td>99.0</td>\n",
       "      <td>99.0</td>\n",
       "      <td>5.32</td>\n",
       "      <td>0.0</td>\n",
       "      <td>915.0</td>\n",
       "      <td>0.0</td>\n",
       "    </tr>\n",
       "  </tbody>\n",
       "</table>\n",
       "</div>"
      ],
      "text/plain": [
       "           origin  sequence  installments         creation_date  id_sku  \\\n",
       "5181  B2C Channel    635283             5  2018-06-06 22:23:42Z  131436   \n",
       "5182  B2C Channel    635283             5  2018-06-06 22:23:42Z  131485   \n",
       "5183  B2C Channel    635283             5  2018-06-06 22:23:42Z  129067   \n",
       "5184  B2C Channel    635283             5  2018-06-06 22:23:42Z  127646   \n",
       "5185  B2C Channel    635283             5  2018-06-06 22:23:42Z  128064   \n",
       "\n",
       "     category_ids_sku  sku_value  sku_selling_price  sku_total_price  \\\n",
       "5181              /3/      299.0              299.0            299.0   \n",
       "5182         /1/6/28/      179.0              179.0            179.0   \n",
       "5183         /1/6/28/      199.0              199.0            199.0   \n",
       "5184         /1/6/28/      139.0              139.0            139.0   \n",
       "5185         /1/6/28/       99.0               99.0             99.0   \n",
       "\n",
       "      shipping_list_price  shipping_value  total_value  discounts_totals  \n",
       "5181                14.88             0.0        915.0               0.0  \n",
       "5182                 6.38             0.0        915.0               0.0  \n",
       "5183                 5.32             0.0        915.0               0.0  \n",
       "5184                 5.32             0.0        915.0               0.0  \n",
       "5185                 5.32             0.0        915.0               0.0  "
      ]
     },
     "execution_count": 37,
     "metadata": {},
     "output_type": "execute_result"
    }
   ],
   "source": [
    "cols = ['origin','sequence', 'installments', 'creation_date', 'id_sku', 'category_ids_sku', 'sku_value', \n",
    "        'sku_selling_price', 'sku_total_price', 'shipping_list_price', \n",
    "        'shipping_value', 'total_value', 'discounts_totals', ]\n",
    "\n",
    "doc = '5129001320'\n",
    "\n",
    "df[df['client_document'] == doc][cols].iloc[:5, :]"
   ]
  },
  {
   "cell_type": "markdown",
   "metadata": {},
   "source": [
    "Somando-se os preços de venda dos `skus` dessa compra, dados pela coluna `sku_selling_price`, obtemos o valor que aparece (repetido cinco vezes) na coluna `total_value`."
   ]
  },
  {
   "cell_type": "code",
   "execution_count": 38,
   "metadata": {},
   "outputs": [
    {
     "data": {
      "text/plain": [
       "915.0"
      ]
     },
     "execution_count": 38,
     "metadata": {},
     "output_type": "execute_result"
    }
   ],
   "source": [
    "df[df['client_document'] == doc][cols].iloc[:5, :]['sku_selling_price'].sum()"
   ]
  },
  {
   "cell_type": "markdown",
   "metadata": {},
   "source": [
    "Fazendo a mesma conta fixando a `sequence`"
   ]
  },
  {
   "cell_type": "code",
   "execution_count": 39,
   "metadata": {},
   "outputs": [
    {
     "data": {
      "text/plain": [
       "915.0"
      ]
     },
     "execution_count": 39,
     "metadata": {},
     "output_type": "execute_result"
    }
   ],
   "source": [
    "seq = 635283\n",
    "df1 = df[df['client_document'] == doc]\n",
    "df1[df1.sequence == seq][cols].sku_selling_price.sum()"
   ]
  },
  {
   "cell_type": "markdown",
   "metadata": {},
   "source": [
    "## Importancia de cada cartão"
   ]
  },
  {
   "cell_type": "code",
   "execution_count": 40,
   "metadata": {},
   "outputs": [],
   "source": [
    "psn = df['payment_system_name'].value_counts().to_frame(name='total')\n",
    "psn['payment_system_name'] = psn.index"
   ]
  },
  {
   "cell_type": "code",
   "execution_count": 41,
   "metadata": {},
   "outputs": [
    {
     "data": {
      "image/png": "[encoded data removed]",
      "text/plain": [
       "<matplotlib.figure.Figure at 0x1a149e1630>"
      ]
     },
     "metadata": {},
     "output_type": "display_data"
    }
   ],
   "source": [
    "sns.set(style=\"whitegrid\")\n",
    "sns.set(rc={'figure.figsize':(15,5.27)})\n",
    "ax = sns.barplot(x=\"payment_system_name\", y=\"total\", data=psn.iloc[:5,:])"
   ]
  },
  {
   "cell_type": "markdown",
   "metadata": {},
   "source": [
    "## Importancia dos clientes"
   ]
  },
  {
   "cell_type": "code",
   "execution_count": 42,
   "metadata": {},
   "outputs": [
    {
     "data": {
      "text/html": [
       "<div>\n",
       "<style scoped>\n",
       "    .dataframe tbody tr th:only-of-type {\n",
       "        vertical-align: middle;\n",
       "    }\n",
       "\n",
       "    .dataframe tbody tr th {\n",
       "        vertical-align: top;\n",
       "    }\n",
       "\n",
       "    .dataframe thead th {\n",
       "        text-align: right;\n",
       "    }\n",
       "</style>\n",
       "<table border=\"1\" class=\"dataframe\">\n",
       "  <thead>\n",
       "    <tr style=\"text-align: right;\">\n",
       "      <th></th>\n",
       "      <th>document</th>\n",
       "    </tr>\n",
       "    <tr>\n",
       "      <th>client_document</th>\n",
       "      <th></th>\n",
       "    </tr>\n",
       "  </thead>\n",
       "  <tbody>\n",
       "    <tr>\n",
       "      <th>5129001320</th>\n",
       "      <td>43</td>\n",
       "    </tr>\n",
       "    <tr>\n",
       "      <th>4333596173</th>\n",
       "      <td>39</td>\n",
       "    </tr>\n",
       "    <tr>\n",
       "      <th>5032994642</th>\n",
       "      <td>35</td>\n",
       "    </tr>\n",
       "    <tr>\n",
       "      <th>11153171724</th>\n",
       "      <td>31</td>\n",
       "    </tr>\n",
       "    <tr>\n",
       "      <th>7213315722</th>\n",
       "      <td>23</td>\n",
       "    </tr>\n",
       "  </tbody>\n",
       "</table>\n",
       "</div>"
      ],
      "text/plain": [
       "                 document\n",
       "client_document          \n",
       "5129001320             43\n",
       "4333596173             39\n",
       "5032994642             35\n",
       "11153171724            31\n",
       "7213315722             23"
      ]
     },
     "execution_count": 42,
     "metadata": {},
     "output_type": "execute_result"
    }
   ],
   "source": [
    "client_neigh = pd.Series(df['neighborhood'].groupby(df['client_document']).count())\n",
    "client_neigh = client_neigh.sort_values(ascending=False)\n",
    "client_neigh = client_neigh.to_frame(name='document')\n",
    "\n",
    "client_neigh.sort_values(by='document', ascending=False).head()"
   ]
  },
  {
   "cell_type": "markdown",
   "metadata": {},
   "source": [
    "## Features Through Time\n",
    "[[go back to the top]](#Table-of-contents)"
   ]
  },
  {
   "cell_type": "markdown",
   "metadata": {},
   "source": [
    "### Separando as datas e horas"
   ]
  },
  {
   "cell_type": "code",
   "execution_count": 43,
   "metadata": {},
   "outputs": [
    {
     "data": {
      "text/html": [
       "<div>\n",
       "<style scoped>\n",
       "    .dataframe tbody tr th:only-of-type {\n",
       "        vertical-align: middle;\n",
       "    }\n",
       "\n",
       "    .dataframe tbody tr th {\n",
       "        vertical-align: top;\n",
       "    }\n",
       "\n",
       "    .dataframe thead th {\n",
       "        text-align: right;\n",
       "    }\n",
       "</style>\n",
       "<table border=\"1\" class=\"dataframe\">\n",
       "  <thead>\n",
       "    <tr style=\"text-align: right;\">\n",
       "      <th></th>\n",
       "      <th>day</th>\n",
       "      <th>hour</th>\n",
       "    </tr>\n",
       "  </thead>\n",
       "  <tbody>\n",
       "    <tr>\n",
       "      <th>0</th>\n",
       "      <td>2018-02-28</td>\n",
       "      <td>16:52:40Z</td>\n",
       "    </tr>\n",
       "    <tr>\n",
       "      <th>1</th>\n",
       "      <td>2018-02-28</td>\n",
       "      <td>01:09:59Z</td>\n",
       "    </tr>\n",
       "    <tr>\n",
       "      <th>2</th>\n",
       "      <td>2018-02-28</td>\n",
       "      <td>02:29:28Z</td>\n",
       "    </tr>\n",
       "    <tr>\n",
       "      <th>3</th>\n",
       "      <td>2018-02-28</td>\n",
       "      <td>02:29:28Z</td>\n",
       "    </tr>\n",
       "    <tr>\n",
       "      <th>4</th>\n",
       "      <td>2018-02-28</td>\n",
       "      <td>02:29:28Z</td>\n",
       "    </tr>\n",
       "  </tbody>\n",
       "</table>\n",
       "</div>"
      ],
      "text/plain": [
       "          day       hour\n",
       "0  2018-02-28  16:52:40Z\n",
       "1  2018-02-28  01:09:59Z\n",
       "2  2018-02-28  02:29:28Z\n",
       "3  2018-02-28  02:29:28Z\n",
       "4  2018-02-28  02:29:28Z"
      ]
     },
     "execution_count": 43,
     "metadata": {},
     "output_type": "execute_result"
    },
    {
     "data": {
      "text/html": [
       "<div>\n",
       "<style scoped>\n",
       "    .dataframe tbody tr th:only-of-type {\n",
       "        vertical-align: middle;\n",
       "    }\n",
       "\n",
       "    .dataframe tbody tr th {\n",
       "        vertical-align: top;\n",
       "    }\n",
       "\n",
       "    .dataframe thead th {\n",
       "        text-align: right;\n",
       "    }\n",
       "</style>\n",
       "<table border=\"1\" class=\"dataframe\">\n",
       "  <thead>\n",
       "    <tr style=\"text-align: right;\">\n",
       "      <th></th>\n",
       "      <th>day</th>\n",
       "      <th>hour</th>\n",
       "    </tr>\n",
       "  </thead>\n",
       "  <tbody>\n",
       "    <tr>\n",
       "      <th>12423</th>\n",
       "      <td>2018-08-30</td>\n",
       "      <td>19:38:16Z</td>\n",
       "    </tr>\n",
       "    <tr>\n",
       "      <th>12424</th>\n",
       "      <td>2018-08-30</td>\n",
       "      <td>19:38:16Z</td>\n",
       "    </tr>\n",
       "    <tr>\n",
       "      <th>12425</th>\n",
       "      <td>2018-08-30</td>\n",
       "      <td>19:50:37Z</td>\n",
       "    </tr>\n",
       "    <tr>\n",
       "      <th>12426</th>\n",
       "      <td>2018-08-30</td>\n",
       "      <td>19:55:28Z</td>\n",
       "    </tr>\n",
       "    <tr>\n",
       "      <th>12427</th>\n",
       "      <td>2018-08-30</td>\n",
       "      <td>19:55:28Z</td>\n",
       "    </tr>\n",
       "  </tbody>\n",
       "</table>\n",
       "</div>"
      ],
      "text/plain": [
       "              day       hour\n",
       "12423  2018-08-30  19:38:16Z\n",
       "12424  2018-08-30  19:38:16Z\n",
       "12425  2018-08-30  19:50:37Z\n",
       "12426  2018-08-30  19:55:28Z\n",
       "12427  2018-08-30  19:55:28Z"
      ]
     },
     "execution_count": 43,
     "metadata": {},
     "output_type": "execute_result"
    }
   ],
   "source": [
    "df_dates = df[['creation_date']]\n",
    "\n",
    "df_dates = pd.DataFrame(df_dates.creation_date.str.split(' ',1).tolist(),\n",
    "                        columns = ['day','hour'])\n",
    "\n",
    "df_dates.head()\n",
    "df_dates.tail()"
   ]
  },
  {
   "cell_type": "code",
   "execution_count": 44,
   "metadata": {},
   "outputs": [
    {
     "data": {
      "text/html": [
       "<div>\n",
       "<style scoped>\n",
       "    .dataframe tbody tr th:only-of-type {\n",
       "        vertical-align: middle;\n",
       "    }\n",
       "\n",
       "    .dataframe tbody tr th {\n",
       "        vertical-align: top;\n",
       "    }\n",
       "\n",
       "    .dataframe thead th {\n",
       "        text-align: right;\n",
       "    }\n",
       "</style>\n",
       "<table border=\"1\" class=\"dataframe\">\n",
       "  <thead>\n",
       "    <tr style=\"text-align: right;\">\n",
       "      <th></th>\n",
       "      <th>origin</th>\n",
       "      <th>sequence</th>\n",
       "      <th>creation_date</th>\n",
       "      <th>client_document</th>\n",
       "      <th>state</th>\n",
       "      <th>city</th>\n",
       "      <th>neighborhood</th>\n",
       "      <th>carrier</th>\n",
       "      <th>delivery_deadline</th>\n",
       "      <th>status</th>\n",
       "      <th>utmi</th>\n",
       "      <th>payment_system_name</th>\n",
       "      <th>installments</th>\n",
       "      <th>id_sku</th>\n",
       "      <th>category_ids_sku</th>\n",
       "      <th>sku_value</th>\n",
       "      <th>sku_selling_price</th>\n",
       "      <th>sku_total_price</th>\n",
       "      <th>shipping_list_price</th>\n",
       "      <th>shipping_value</th>\n",
       "      <th>total_value</th>\n",
       "      <th>discounts_totals</th>\n",
       "    </tr>\n",
       "  </thead>\n",
       "  <tbody>\n",
       "    <tr>\n",
       "      <th>0</th>\n",
       "      <td>B2C Channel</td>\n",
       "      <td>614845</td>\n",
       "      <td>2018-02-28 16:52:40Z</td>\n",
       "      <td>X0AX9YK97K0</td>\n",
       "      <td>rj</td>\n",
       "      <td>rio de janeiro</td>\n",
       "      <td>campo grande</td>\n",
       "      <td>sedex</td>\n",
       "      <td>4bd</td>\n",
       "      <td>invoiced</td>\n",
       "      <td>-  -  -</td>\n",
       "      <td>mastercard</td>\n",
       "      <td>4</td>\n",
       "      <td>123911</td>\n",
       "      <td>/3/39/</td>\n",
       "      <td>239.0</td>\n",
       "      <td>239.0</td>\n",
       "      <td>239.0</td>\n",
       "      <td>12.78</td>\n",
       "      <td>0.0</td>\n",
       "      <td>239.0</td>\n",
       "      <td>0.0</td>\n",
       "    </tr>\n",
       "    <tr>\n",
       "      <th>1</th>\n",
       "      <td>B2C Channel</td>\n",
       "      <td>614737</td>\n",
       "      <td>2018-02-28 01:09:59Z</td>\n",
       "      <td>X0YKY79YK0K</td>\n",
       "      <td>mg</td>\n",
       "      <td>carangola</td>\n",
       "      <td>santa maria</td>\n",
       "      <td>sedex</td>\n",
       "      <td>6bd</td>\n",
       "      <td>invoiced</td>\n",
       "      <td>-  -  -</td>\n",
       "      <td>mastercard</td>\n",
       "      <td>4</td>\n",
       "      <td>116363</td>\n",
       "      <td>/3/36/</td>\n",
       "      <td>239.0</td>\n",
       "      <td>239.0</td>\n",
       "      <td>239.0</td>\n",
       "      <td>41.35</td>\n",
       "      <td>0.0</td>\n",
       "      <td>239.0</td>\n",
       "      <td>0.0</td>\n",
       "    </tr>\n",
       "    <tr>\n",
       "      <th>2</th>\n",
       "      <td>B2C Channel</td>\n",
       "      <td>614752</td>\n",
       "      <td>2018-02-28 02:29:28Z</td>\n",
       "      <td>XBY0YBXA709</td>\n",
       "      <td>rj</td>\n",
       "      <td>rio de janeiro</td>\n",
       "      <td>maracan</td>\n",
       "      <td>ciclo verde</td>\n",
       "      <td>2bd</td>\n",
       "      <td>ready for shipping</td>\n",
       "      <td>-  -  -</td>\n",
       "      <td>mastercard</td>\n",
       "      <td>5</td>\n",
       "      <td>122075</td>\n",
       "      <td>/3/42/</td>\n",
       "      <td>199.0</td>\n",
       "      <td>159.2</td>\n",
       "      <td>199.0</td>\n",
       "      <td>4.22</td>\n",
       "      <td>0.0</td>\n",
       "      <td>397.6</td>\n",
       "      <td>-99.4</td>\n",
       "    </tr>\n",
       "    <tr>\n",
       "      <th>3</th>\n",
       "      <td>B2C Channel</td>\n",
       "      <td>614752</td>\n",
       "      <td>2018-02-28 02:29:28Z</td>\n",
       "      <td>XBY0YBXA709</td>\n",
       "      <td>rj</td>\n",
       "      <td>rio de janeiro</td>\n",
       "      <td>maracan</td>\n",
       "      <td>ciclo verde</td>\n",
       "      <td>2bd</td>\n",
       "      <td>ready for shipping</td>\n",
       "      <td>-  -  -</td>\n",
       "      <td>mastercard</td>\n",
       "      <td>5</td>\n",
       "      <td>126811</td>\n",
       "      <td>/3/39/</td>\n",
       "      <td>199.0</td>\n",
       "      <td>159.2</td>\n",
       "      <td>199.0</td>\n",
       "      <td>4.24</td>\n",
       "      <td>0.0</td>\n",
       "      <td>397.6</td>\n",
       "      <td>-99.4</td>\n",
       "    </tr>\n",
       "    <tr>\n",
       "      <th>4</th>\n",
       "      <td>B2C Channel</td>\n",
       "      <td>614752</td>\n",
       "      <td>2018-02-28 02:29:28Z</td>\n",
       "      <td>XBY0YBXA709</td>\n",
       "      <td>rj</td>\n",
       "      <td>rio de janeiro</td>\n",
       "      <td>maracan</td>\n",
       "      <td>ciclo verde</td>\n",
       "      <td>2bd</td>\n",
       "      <td>ready for shipping</td>\n",
       "      <td>-  -  -</td>\n",
       "      <td>mastercard</td>\n",
       "      <td>5</td>\n",
       "      <td>122038</td>\n",
       "      <td>/1/6/28/</td>\n",
       "      <td>99.0</td>\n",
       "      <td>79.2</td>\n",
       "      <td>99.0</td>\n",
       "      <td>1.52</td>\n",
       "      <td>0.0</td>\n",
       "      <td>397.6</td>\n",
       "      <td>-99.4</td>\n",
       "    </tr>\n",
       "  </tbody>\n",
       "</table>\n",
       "</div>"
      ],
      "text/plain": [
       "        origin  sequence         creation_date client_document state  \\\n",
       "0  B2C Channel    614845  2018-02-28 16:52:40Z     X0AX9YK97K0    rj   \n",
       "1  B2C Channel    614737  2018-02-28 01:09:59Z     X0YKY79YK0K    mg   \n",
       "2  B2C Channel    614752  2018-02-28 02:29:28Z     XBY0YBXA709    rj   \n",
       "3  B2C Channel    614752  2018-02-28 02:29:28Z     XBY0YBXA709    rj   \n",
       "4  B2C Channel    614752  2018-02-28 02:29:28Z     XBY0YBXA709    rj   \n",
       "\n",
       "             city  neighborhood      carrier delivery_deadline  \\\n",
       "0  rio de janeiro  campo grande        sedex               4bd   \n",
       "1       carangola   santa maria        sedex               6bd   \n",
       "2  rio de janeiro       maracan  ciclo verde               2bd   \n",
       "3  rio de janeiro       maracan  ciclo verde               2bd   \n",
       "4  rio de janeiro       maracan  ciclo verde               2bd   \n",
       "\n",
       "               status       utmi payment_system_name  installments  id_sku  \\\n",
       "0            invoiced   -  -  -           mastercard             4  123911   \n",
       "1            invoiced   -  -  -           mastercard             4  116363   \n",
       "2  ready for shipping   -  -  -           mastercard             5  122075   \n",
       "3  ready for shipping   -  -  -           mastercard             5  126811   \n",
       "4  ready for shipping   -  -  -           mastercard             5  122038   \n",
       "\n",
       "  category_ids_sku  sku_value  sku_selling_price  sku_total_price  \\\n",
       "0           /3/39/      239.0              239.0            239.0   \n",
       "1           /3/36/      239.0              239.0            239.0   \n",
       "2           /3/42/      199.0              159.2            199.0   \n",
       "3           /3/39/      199.0              159.2            199.0   \n",
       "4         /1/6/28/       99.0               79.2             99.0   \n",
       "\n",
       "   shipping_list_price  shipping_value  total_value  discounts_totals  \n",
       "0                12.78             0.0        239.0               0.0  \n",
       "1                41.35             0.0        239.0               0.0  \n",
       "2                 4.22             0.0        397.6             -99.4  \n",
       "3                 4.24             0.0        397.6             -99.4  \n",
       "4                 1.52             0.0        397.6             -99.4  "
      ]
     },
     "execution_count": 44,
     "metadata": {},
     "output_type": "execute_result"
    }
   ],
   "source": [
    "df.head()"
   ]
  },
  {
   "cell_type": "code",
   "execution_count": 45,
   "metadata": {},
   "outputs": [],
   "source": [
    "df_dates['hour'] = [el[:-1] for el in df_dates['hour']]"
   ]
  },
  {
   "cell_type": "code",
   "execution_count": 46,
   "metadata": {},
   "outputs": [],
   "source": [
    "cols = ['origin', 'sequence', 'client_document',\n",
    "        'state', 'city', 'neighborhood', 'carrier', 'delivery_deadline', \n",
    "        'status', 'utmi', 'payment_system_name', 'installments', 'id_sku', \n",
    "        'category_ids_sku', 'sku_value', 'sku_selling_price', 'sku_total_price', 'shipping_list_price', \n",
    "        'shipping_value', 'total_value', 'discounts_totals']\n",
    "dfnew = df[cols]"
   ]
  },
  {
   "cell_type": "code",
   "execution_count": 47,
   "metadata": {},
   "outputs": [],
   "source": [
    "dfnew = pd.concat([dfnew, df_dates], axis=1)"
   ]
  },
  {
   "cell_type": "code",
   "execution_count": 48,
   "metadata": {},
   "outputs": [],
   "source": [
    "cols = ['origin', 'sequence', 'day', 'hour', 'client_document',\n",
    "        'state', 'city', 'neighborhood', 'carrier', 'delivery_deadline', \n",
    "        'status', 'utmi', 'payment_system_name', 'installments', 'id_sku', \n",
    "        'category_ids_sku', 'sku_value', 'sku_selling_price', 'sku_total_price', 'shipping_list_price', \n",
    "        'shipping_value', 'total_value', 'discounts_totals']\n",
    "dfnew = dfnew[cols]"
   ]
  },
  {
   "cell_type": "code",
   "execution_count": 49,
   "metadata": {},
   "outputs": [
    {
     "data": {
      "text/html": [
       "<div>\n",
       "<style scoped>\n",
       "    .dataframe tbody tr th:only-of-type {\n",
       "        vertical-align: middle;\n",
       "    }\n",
       "\n",
       "    .dataframe tbody tr th {\n",
       "        vertical-align: top;\n",
       "    }\n",
       "\n",
       "    .dataframe thead th {\n",
       "        text-align: right;\n",
       "    }\n",
       "</style>\n",
       "<table border=\"1\" class=\"dataframe\">\n",
       "  <thead>\n",
       "    <tr style=\"text-align: right;\">\n",
       "      <th></th>\n",
       "      <th>origin</th>\n",
       "      <th>sequence</th>\n",
       "      <th>day</th>\n",
       "      <th>hour</th>\n",
       "      <th>client_document</th>\n",
       "      <th>state</th>\n",
       "      <th>city</th>\n",
       "      <th>neighborhood</th>\n",
       "      <th>carrier</th>\n",
       "      <th>delivery_deadline</th>\n",
       "      <th>status</th>\n",
       "      <th>utmi</th>\n",
       "      <th>payment_system_name</th>\n",
       "      <th>installments</th>\n",
       "      <th>id_sku</th>\n",
       "      <th>category_ids_sku</th>\n",
       "      <th>sku_value</th>\n",
       "      <th>sku_selling_price</th>\n",
       "      <th>sku_total_price</th>\n",
       "      <th>shipping_list_price</th>\n",
       "      <th>shipping_value</th>\n",
       "      <th>total_value</th>\n",
       "      <th>discounts_totals</th>\n",
       "    </tr>\n",
       "  </thead>\n",
       "  <tbody>\n",
       "    <tr>\n",
       "      <th>0</th>\n",
       "      <td>B2C Channel</td>\n",
       "      <td>614845</td>\n",
       "      <td>2018-02-28</td>\n",
       "      <td>16:52:40</td>\n",
       "      <td>X0AX9YK97K0</td>\n",
       "      <td>rj</td>\n",
       "      <td>rio de janeiro</td>\n",
       "      <td>campo grande</td>\n",
       "      <td>sedex</td>\n",
       "      <td>4bd</td>\n",
       "      <td>invoiced</td>\n",
       "      <td>-  -  -</td>\n",
       "      <td>mastercard</td>\n",
       "      <td>4</td>\n",
       "      <td>123911</td>\n",
       "      <td>/3/39/</td>\n",
       "      <td>239.0</td>\n",
       "      <td>239.0</td>\n",
       "      <td>239.0</td>\n",
       "      <td>12.78</td>\n",
       "      <td>0.0</td>\n",
       "      <td>239.0</td>\n",
       "      <td>0.0</td>\n",
       "    </tr>\n",
       "    <tr>\n",
       "      <th>1</th>\n",
       "      <td>B2C Channel</td>\n",
       "      <td>614737</td>\n",
       "      <td>2018-02-28</td>\n",
       "      <td>01:09:59</td>\n",
       "      <td>X0YKY79YK0K</td>\n",
       "      <td>mg</td>\n",
       "      <td>carangola</td>\n",
       "      <td>santa maria</td>\n",
       "      <td>sedex</td>\n",
       "      <td>6bd</td>\n",
       "      <td>invoiced</td>\n",
       "      <td>-  -  -</td>\n",
       "      <td>mastercard</td>\n",
       "      <td>4</td>\n",
       "      <td>116363</td>\n",
       "      <td>/3/36/</td>\n",
       "      <td>239.0</td>\n",
       "      <td>239.0</td>\n",
       "      <td>239.0</td>\n",
       "      <td>41.35</td>\n",
       "      <td>0.0</td>\n",
       "      <td>239.0</td>\n",
       "      <td>0.0</td>\n",
       "    </tr>\n",
       "    <tr>\n",
       "      <th>2</th>\n",
       "      <td>B2C Channel</td>\n",
       "      <td>614752</td>\n",
       "      <td>2018-02-28</td>\n",
       "      <td>02:29:28</td>\n",
       "      <td>XBY0YBXA709</td>\n",
       "      <td>rj</td>\n",
       "      <td>rio de janeiro</td>\n",
       "      <td>maracan</td>\n",
       "      <td>ciclo verde</td>\n",
       "      <td>2bd</td>\n",
       "      <td>ready for shipping</td>\n",
       "      <td>-  -  -</td>\n",
       "      <td>mastercard</td>\n",
       "      <td>5</td>\n",
       "      <td>122075</td>\n",
       "      <td>/3/42/</td>\n",
       "      <td>199.0</td>\n",
       "      <td>159.2</td>\n",
       "      <td>199.0</td>\n",
       "      <td>4.22</td>\n",
       "      <td>0.0</td>\n",
       "      <td>397.6</td>\n",
       "      <td>-99.4</td>\n",
       "    </tr>\n",
       "    <tr>\n",
       "      <th>3</th>\n",
       "      <td>B2C Channel</td>\n",
       "      <td>614752</td>\n",
       "      <td>2018-02-28</td>\n",
       "      <td>02:29:28</td>\n",
       "      <td>XBY0YBXA709</td>\n",
       "      <td>rj</td>\n",
       "      <td>rio de janeiro</td>\n",
       "      <td>maracan</td>\n",
       "      <td>ciclo verde</td>\n",
       "      <td>2bd</td>\n",
       "      <td>ready for shipping</td>\n",
       "      <td>-  -  -</td>\n",
       "      <td>mastercard</td>\n",
       "      <td>5</td>\n",
       "      <td>126811</td>\n",
       "      <td>/3/39/</td>\n",
       "      <td>199.0</td>\n",
       "      <td>159.2</td>\n",
       "      <td>199.0</td>\n",
       "      <td>4.24</td>\n",
       "      <td>0.0</td>\n",
       "      <td>397.6</td>\n",
       "      <td>-99.4</td>\n",
       "    </tr>\n",
       "    <tr>\n",
       "      <th>4</th>\n",
       "      <td>B2C Channel</td>\n",
       "      <td>614752</td>\n",
       "      <td>2018-02-28</td>\n",
       "      <td>02:29:28</td>\n",
       "      <td>XBY0YBXA709</td>\n",
       "      <td>rj</td>\n",
       "      <td>rio de janeiro</td>\n",
       "      <td>maracan</td>\n",
       "      <td>ciclo verde</td>\n",
       "      <td>2bd</td>\n",
       "      <td>ready for shipping</td>\n",
       "      <td>-  -  -</td>\n",
       "      <td>mastercard</td>\n",
       "      <td>5</td>\n",
       "      <td>122038</td>\n",
       "      <td>/1/6/28/</td>\n",
       "      <td>99.0</td>\n",
       "      <td>79.2</td>\n",
       "      <td>99.0</td>\n",
       "      <td>1.52</td>\n",
       "      <td>0.0</td>\n",
       "      <td>397.6</td>\n",
       "      <td>-99.4</td>\n",
       "    </tr>\n",
       "  </tbody>\n",
       "</table>\n",
       "</div>"
      ],
      "text/plain": [
       "        origin  sequence         day      hour client_document state  \\\n",
       "0  B2C Channel    614845  2018-02-28  16:52:40     X0AX9YK97K0    rj   \n",
       "1  B2C Channel    614737  2018-02-28  01:09:59     X0YKY79YK0K    mg   \n",
       "2  B2C Channel    614752  2018-02-28  02:29:28     XBY0YBXA709    rj   \n",
       "3  B2C Channel    614752  2018-02-28  02:29:28     XBY0YBXA709    rj   \n",
       "4  B2C Channel    614752  2018-02-28  02:29:28     XBY0YBXA709    rj   \n",
       "\n",
       "             city  neighborhood      carrier delivery_deadline  \\\n",
       "0  rio de janeiro  campo grande        sedex               4bd   \n",
       "1       carangola   santa maria        sedex               6bd   \n",
       "2  rio de janeiro       maracan  ciclo verde               2bd   \n",
       "3  rio de janeiro       maracan  ciclo verde               2bd   \n",
       "4  rio de janeiro       maracan  ciclo verde               2bd   \n",
       "\n",
       "               status       utmi payment_system_name  installments  id_sku  \\\n",
       "0            invoiced   -  -  -           mastercard             4  123911   \n",
       "1            invoiced   -  -  -           mastercard             4  116363   \n",
       "2  ready for shipping   -  -  -           mastercard             5  122075   \n",
       "3  ready for shipping   -  -  -           mastercard             5  126811   \n",
       "4  ready for shipping   -  -  -           mastercard             5  122038   \n",
       "\n",
       "  category_ids_sku  sku_value  sku_selling_price  sku_total_price  \\\n",
       "0           /3/39/      239.0              239.0            239.0   \n",
       "1           /3/36/      239.0              239.0            239.0   \n",
       "2           /3/42/      199.0              159.2            199.0   \n",
       "3           /3/39/      199.0              159.2            199.0   \n",
       "4         /1/6/28/       99.0               79.2             99.0   \n",
       "\n",
       "   shipping_list_price  shipping_value  total_value  discounts_totals  \n",
       "0                12.78             0.0        239.0               0.0  \n",
       "1                41.35             0.0        239.0               0.0  \n",
       "2                 4.22             0.0        397.6             -99.4  \n",
       "3                 4.24             0.0        397.6             -99.4  \n",
       "4                 1.52             0.0        397.6             -99.4  "
      ]
     },
     "execution_count": 49,
     "metadata": {},
     "output_type": "execute_result"
    }
   ],
   "source": [
    "dfnew.head()"
   ]
  },
  {
   "cell_type": "code",
   "execution_count": 50,
   "metadata": {},
   "outputs": [],
   "source": [
    "df = dfnew.copy()\n",
    "df['day'] = pd.to_datetime(df['day'])"
   ]
  },
  {
   "cell_type": "code",
   "execution_count": 51,
   "metadata": {},
   "outputs": [
    {
     "data": {
      "text/plain": [
       "origin                         object\n",
       "sequence                        int64\n",
       "day                    datetime64[ns]\n",
       "hour                           object\n",
       "client_document                object\n",
       "state                          object\n",
       "city                           object\n",
       "neighborhood                   object\n",
       "carrier                        object\n",
       "delivery_deadline              object\n",
       "status                         object\n",
       "utmi                           object\n",
       "payment_system_name            object\n",
       "installments                    int64\n",
       "id_sku                          int64\n",
       "category_ids_sku               object\n",
       "sku_value                     float64\n",
       "sku_selling_price             float64\n",
       "sku_total_price               float64\n",
       "shipping_list_price           float64\n",
       "shipping_value                float64\n",
       "total_value                   float64\n",
       "discounts_totals              float64\n",
       "dtype: object"
      ]
     },
     "execution_count": 51,
     "metadata": {},
     "output_type": "execute_result"
    }
   ],
   "source": [
    "df.dtypes"
   ]
  },
  {
   "cell_type": "code",
   "execution_count": 52,
   "metadata": {},
   "outputs": [
    {
     "data": {
      "text/html": [
       "<div>\n",
       "<style scoped>\n",
       "    .dataframe tbody tr th:only-of-type {\n",
       "        vertical-align: middle;\n",
       "    }\n",
       "\n",
       "    .dataframe tbody tr th {\n",
       "        vertical-align: top;\n",
       "    }\n",
       "\n",
       "    .dataframe thead th {\n",
       "        text-align: right;\n",
       "    }\n",
       "</style>\n",
       "<table border=\"1\" class=\"dataframe\">\n",
       "  <thead>\n",
       "    <tr style=\"text-align: right;\">\n",
       "      <th></th>\n",
       "      <th>origin</th>\n",
       "      <th>sequence</th>\n",
       "      <th>day</th>\n",
       "      <th>hour</th>\n",
       "      <th>client_document</th>\n",
       "      <th>state</th>\n",
       "      <th>city</th>\n",
       "      <th>neighborhood</th>\n",
       "      <th>carrier</th>\n",
       "      <th>delivery_deadline</th>\n",
       "      <th>status</th>\n",
       "      <th>utmi</th>\n",
       "      <th>payment_system_name</th>\n",
       "      <th>installments</th>\n",
       "      <th>id_sku</th>\n",
       "      <th>category_ids_sku</th>\n",
       "      <th>sku_value</th>\n",
       "      <th>sku_selling_price</th>\n",
       "      <th>sku_total_price</th>\n",
       "      <th>shipping_list_price</th>\n",
       "      <th>shipping_value</th>\n",
       "      <th>total_value</th>\n",
       "      <th>discounts_totals</th>\n",
       "    </tr>\n",
       "  </thead>\n",
       "  <tbody>\n",
       "    <tr>\n",
       "      <th>0</th>\n",
       "      <td>B2C Channel</td>\n",
       "      <td>614845</td>\n",
       "      <td>2018-02-28</td>\n",
       "      <td>16:52:40</td>\n",
       "      <td>X0AX9YK97K0</td>\n",
       "      <td>rj</td>\n",
       "      <td>rio de janeiro</td>\n",
       "      <td>campo grande</td>\n",
       "      <td>sedex</td>\n",
       "      <td>4bd</td>\n",
       "      <td>invoiced</td>\n",
       "      <td>-  -  -</td>\n",
       "      <td>mastercard</td>\n",
       "      <td>4</td>\n",
       "      <td>123911</td>\n",
       "      <td>/3/39/</td>\n",
       "      <td>239.0</td>\n",
       "      <td>239.0</td>\n",
       "      <td>239.0</td>\n",
       "      <td>12.78</td>\n",
       "      <td>0.0</td>\n",
       "      <td>239.0</td>\n",
       "      <td>0.0</td>\n",
       "    </tr>\n",
       "    <tr>\n",
       "      <th>1</th>\n",
       "      <td>B2C Channel</td>\n",
       "      <td>614737</td>\n",
       "      <td>2018-02-28</td>\n",
       "      <td>01:09:59</td>\n",
       "      <td>X0YKY79YK0K</td>\n",
       "      <td>mg</td>\n",
       "      <td>carangola</td>\n",
       "      <td>santa maria</td>\n",
       "      <td>sedex</td>\n",
       "      <td>6bd</td>\n",
       "      <td>invoiced</td>\n",
       "      <td>-  -  -</td>\n",
       "      <td>mastercard</td>\n",
       "      <td>4</td>\n",
       "      <td>116363</td>\n",
       "      <td>/3/36/</td>\n",
       "      <td>239.0</td>\n",
       "      <td>239.0</td>\n",
       "      <td>239.0</td>\n",
       "      <td>41.35</td>\n",
       "      <td>0.0</td>\n",
       "      <td>239.0</td>\n",
       "      <td>0.0</td>\n",
       "    </tr>\n",
       "    <tr>\n",
       "      <th>2</th>\n",
       "      <td>B2C Channel</td>\n",
       "      <td>614752</td>\n",
       "      <td>2018-02-28</td>\n",
       "      <td>02:29:28</td>\n",
       "      <td>XBY0YBXA709</td>\n",
       "      <td>rj</td>\n",
       "      <td>rio de janeiro</td>\n",
       "      <td>maracan</td>\n",
       "      <td>ciclo verde</td>\n",
       "      <td>2bd</td>\n",
       "      <td>ready for shipping</td>\n",
       "      <td>-  -  -</td>\n",
       "      <td>mastercard</td>\n",
       "      <td>5</td>\n",
       "      <td>122075</td>\n",
       "      <td>/3/42/</td>\n",
       "      <td>199.0</td>\n",
       "      <td>159.2</td>\n",
       "      <td>199.0</td>\n",
       "      <td>4.22</td>\n",
       "      <td>0.0</td>\n",
       "      <td>397.6</td>\n",
       "      <td>-99.4</td>\n",
       "    </tr>\n",
       "    <tr>\n",
       "      <th>3</th>\n",
       "      <td>B2C Channel</td>\n",
       "      <td>614752</td>\n",
       "      <td>2018-02-28</td>\n",
       "      <td>02:29:28</td>\n",
       "      <td>XBY0YBXA709</td>\n",
       "      <td>rj</td>\n",
       "      <td>rio de janeiro</td>\n",
       "      <td>maracan</td>\n",
       "      <td>ciclo verde</td>\n",
       "      <td>2bd</td>\n",
       "      <td>ready for shipping</td>\n",
       "      <td>-  -  -</td>\n",
       "      <td>mastercard</td>\n",
       "      <td>5</td>\n",
       "      <td>126811</td>\n",
       "      <td>/3/39/</td>\n",
       "      <td>199.0</td>\n",
       "      <td>159.2</td>\n",
       "      <td>199.0</td>\n",
       "      <td>4.24</td>\n",
       "      <td>0.0</td>\n",
       "      <td>397.6</td>\n",
       "      <td>-99.4</td>\n",
       "    </tr>\n",
       "    <tr>\n",
       "      <th>4</th>\n",
       "      <td>B2C Channel</td>\n",
       "      <td>614752</td>\n",
       "      <td>2018-02-28</td>\n",
       "      <td>02:29:28</td>\n",
       "      <td>XBY0YBXA709</td>\n",
       "      <td>rj</td>\n",
       "      <td>rio de janeiro</td>\n",
       "      <td>maracan</td>\n",
       "      <td>ciclo verde</td>\n",
       "      <td>2bd</td>\n",
       "      <td>ready for shipping</td>\n",
       "      <td>-  -  -</td>\n",
       "      <td>mastercard</td>\n",
       "      <td>5</td>\n",
       "      <td>122038</td>\n",
       "      <td>/1/6/28/</td>\n",
       "      <td>99.0</td>\n",
       "      <td>79.2</td>\n",
       "      <td>99.0</td>\n",
       "      <td>1.52</td>\n",
       "      <td>0.0</td>\n",
       "      <td>397.6</td>\n",
       "      <td>-99.4</td>\n",
       "    </tr>\n",
       "  </tbody>\n",
       "</table>\n",
       "</div>"
      ],
      "text/plain": [
       "        origin  sequence        day      hour client_document state  \\\n",
       "0  B2C Channel    614845 2018-02-28  16:52:40     X0AX9YK97K0    rj   \n",
       "1  B2C Channel    614737 2018-02-28  01:09:59     X0YKY79YK0K    mg   \n",
       "2  B2C Channel    614752 2018-02-28  02:29:28     XBY0YBXA709    rj   \n",
       "3  B2C Channel    614752 2018-02-28  02:29:28     XBY0YBXA709    rj   \n",
       "4  B2C Channel    614752 2018-02-28  02:29:28     XBY0YBXA709    rj   \n",
       "\n",
       "             city  neighborhood      carrier delivery_deadline  \\\n",
       "0  rio de janeiro  campo grande        sedex               4bd   \n",
       "1       carangola   santa maria        sedex               6bd   \n",
       "2  rio de janeiro       maracan  ciclo verde               2bd   \n",
       "3  rio de janeiro       maracan  ciclo verde               2bd   \n",
       "4  rio de janeiro       maracan  ciclo verde               2bd   \n",
       "\n",
       "               status       utmi payment_system_name  installments  id_sku  \\\n",
       "0            invoiced   -  -  -           mastercard             4  123911   \n",
       "1            invoiced   -  -  -           mastercard             4  116363   \n",
       "2  ready for shipping   -  -  -           mastercard             5  122075   \n",
       "3  ready for shipping   -  -  -           mastercard             5  126811   \n",
       "4  ready for shipping   -  -  -           mastercard             5  122038   \n",
       "\n",
       "  category_ids_sku  sku_value  sku_selling_price  sku_total_price  \\\n",
       "0           /3/39/      239.0              239.0            239.0   \n",
       "1           /3/36/      239.0              239.0            239.0   \n",
       "2           /3/42/      199.0              159.2            199.0   \n",
       "3           /3/39/      199.0              159.2            199.0   \n",
       "4         /1/6/28/       99.0               79.2             99.0   \n",
       "\n",
       "   shipping_list_price  shipping_value  total_value  discounts_totals  \n",
       "0                12.78             0.0        239.0               0.0  \n",
       "1                41.35             0.0        239.0               0.0  \n",
       "2                 4.22             0.0        397.6             -99.4  \n",
       "3                 4.24             0.0        397.6             -99.4  \n",
       "4                 1.52             0.0        397.6             -99.4  "
      ]
     },
     "execution_count": 52,
     "metadata": {},
     "output_type": "execute_result"
    }
   ],
   "source": [
    "df.head()"
   ]
  },
  {
   "cell_type": "markdown",
   "metadata": {},
   "source": [
    "### Purchase day feature"
   ]
  },
  {
   "cell_type": "code",
   "execution_count": 53,
   "metadata": {},
   "outputs": [
    {
     "data": {
      "text/html": [
       "<div>\n",
       "<style scoped>\n",
       "    .dataframe tbody tr th:only-of-type {\n",
       "        vertical-align: middle;\n",
       "    }\n",
       "\n",
       "    .dataframe tbody tr th {\n",
       "        vertical-align: top;\n",
       "    }\n",
       "\n",
       "    .dataframe thead th {\n",
       "        text-align: right;\n",
       "    }\n",
       "</style>\n",
       "<table border=\"1\" class=\"dataframe\">\n",
       "  <thead>\n",
       "    <tr style=\"text-align: right;\">\n",
       "      <th></th>\n",
       "      <th>day</th>\n",
       "      <th>total_value</th>\n",
       "    </tr>\n",
       "  </thead>\n",
       "  <tbody>\n",
       "    <tr>\n",
       "      <th>0</th>\n",
       "      <td>2018-02-28</td>\n",
       "      <td>12875.42</td>\n",
       "    </tr>\n",
       "    <tr>\n",
       "      <th>1</th>\n",
       "      <td>2018-03-01</td>\n",
       "      <td>11968.62</td>\n",
       "    </tr>\n",
       "    <tr>\n",
       "      <th>2</th>\n",
       "      <td>2018-03-02</td>\n",
       "      <td>14598.09</td>\n",
       "    </tr>\n",
       "    <tr>\n",
       "      <th>3</th>\n",
       "      <td>2018-03-03</td>\n",
       "      <td>19647.58</td>\n",
       "    </tr>\n",
       "    <tr>\n",
       "      <th>4</th>\n",
       "      <td>2018-03-04</td>\n",
       "      <td>8445.65</td>\n",
       "    </tr>\n",
       "  </tbody>\n",
       "</table>\n",
       "</div>"
      ],
      "text/plain": [
       "         day  total_value\n",
       "0 2018-02-28     12875.42\n",
       "1 2018-03-01     11968.62\n",
       "2 2018-03-02     14598.09\n",
       "3 2018-03-03     19647.58\n",
       "4 2018-03-04      8445.65"
      ]
     },
     "execution_count": 53,
     "metadata": {},
     "output_type": "execute_result"
    }
   ],
   "source": [
    "sales_per_day = df.groupby('day', as_index=False).total_value.sum()\n",
    "sales_per_day.head()"
   ]
  },
  {
   "cell_type": "code",
   "execution_count": 54,
   "metadata": {},
   "outputs": [
    {
     "data": {
      "text/plain": [
       "array([[<matplotlib.axes._subplots.AxesSubplot object at 0x1a1289d0f0>]],\n",
       "      dtype=object)"
      ]
     },
     "execution_count": 54,
     "metadata": {},
     "output_type": "execute_result"
    },
    {
     "data": {
      "image/png": "[encoded data removed]",
      "text/plain": [
       "<matplotlib.figure.Figure at 0x1a13dab0f0>"
      ]
     },
     "metadata": {},
     "output_type": "display_data"
    }
   ],
   "source": [
    "sales_per_day.hist()"
   ]
  },
  {
   "cell_type": "code",
   "execution_count": 55,
   "metadata": {},
   "outputs": [
    {
     "data": {
      "text/plain": [
       "day            datetime64[ns]\n",
       "total_value           float64\n",
       "dtype: object"
      ]
     },
     "execution_count": 55,
     "metadata": {},
     "output_type": "execute_result"
    }
   ],
   "source": [
    "sales_per_day.dtypes"
   ]
  },
  {
   "cell_type": "code",
   "execution_count": 56,
   "metadata": {},
   "outputs": [
    {
     "data": {
      "image/png": "[encoded data removed]",
      "text/plain": [
       "<matplotlib.figure.Figure at 0x1a14c50e80>"
      ]
     },
     "metadata": {},
     "output_type": "display_data"
    }
   ],
   "source": [
    "ax = sns.lineplot(x=\"day\", y=\"total_value\", data=sales_per_day, )\n",
    "sns.set(rc={'figure.figsize':(20,5.27)})\n",
    "ax.set_title('Sales per day');"
   ]
  },
  {
   "cell_type": "markdown",
   "metadata": {},
   "source": [
    "### Purchase per week"
   ]
  },
  {
   "cell_type": "code",
   "execution_count": 57,
   "metadata": {},
   "outputs": [
    {
     "data": {
      "text/plain": [
       "origin                         object\n",
       "sequence                        int64\n",
       "day                    datetime64[ns]\n",
       "hour                   datetime64[ns]\n",
       "client_document                object\n",
       "state                          object\n",
       "city                           object\n",
       "neighborhood                   object\n",
       "carrier                        object\n",
       "delivery_deadline              object\n",
       "status                         object\n",
       "utmi                           object\n",
       "payment_system_name            object\n",
       "installments                    int64\n",
       "id_sku                          int64\n",
       "category_ids_sku               object\n",
       "sku_value                     float64\n",
       "sku_selling_price             float64\n",
       "sku_total_price               float64\n",
       "shipping_list_price           float64\n",
       "shipping_value                float64\n",
       "total_value                   float64\n",
       "discounts_totals              float64\n",
       "dtype: object"
      ]
     },
     "execution_count": 57,
     "metadata": {},
     "output_type": "execute_result"
    }
   ],
   "source": [
    "df['hour'] = pd.to_datetime(df['hour'])\n",
    "df.dtypes"
   ]
  },
  {
   "cell_type": "code",
   "execution_count": 58,
   "metadata": {},
   "outputs": [
    {
     "data": {
      "text/html": [
       "<div>\n",
       "<style scoped>\n",
       "    .dataframe tbody tr th:only-of-type {\n",
       "        vertical-align: middle;\n",
       "    }\n",
       "\n",
       "    .dataframe tbody tr th {\n",
       "        vertical-align: top;\n",
       "    }\n",
       "\n",
       "    .dataframe thead th {\n",
       "        text-align: right;\n",
       "    }\n",
       "</style>\n",
       "<table border=\"1\" class=\"dataframe\">\n",
       "  <thead>\n",
       "    <tr style=\"text-align: right;\">\n",
       "      <th></th>\n",
       "      <th>origin</th>\n",
       "      <th>sequence</th>\n",
       "      <th>day</th>\n",
       "      <th>hour</th>\n",
       "      <th>client_document</th>\n",
       "      <th>state</th>\n",
       "      <th>city</th>\n",
       "      <th>neighborhood</th>\n",
       "      <th>carrier</th>\n",
       "      <th>delivery_deadline</th>\n",
       "      <th>status</th>\n",
       "      <th>utmi</th>\n",
       "      <th>payment_system_name</th>\n",
       "      <th>installments</th>\n",
       "      <th>id_sku</th>\n",
       "      <th>category_ids_sku</th>\n",
       "      <th>sku_value</th>\n",
       "      <th>sku_selling_price</th>\n",
       "      <th>sku_total_price</th>\n",
       "      <th>shipping_list_price</th>\n",
       "      <th>shipping_value</th>\n",
       "      <th>total_value</th>\n",
       "      <th>discounts_totals</th>\n",
       "      <th>order_purchase_week</th>\n",
       "    </tr>\n",
       "  </thead>\n",
       "  <tbody>\n",
       "    <tr>\n",
       "      <th>0</th>\n",
       "      <td>B2C Channel</td>\n",
       "      <td>614845</td>\n",
       "      <td>2018-02-28</td>\n",
       "      <td>2019-04-16 16:52:40</td>\n",
       "      <td>X0AX9YK97K0</td>\n",
       "      <td>rj</td>\n",
       "      <td>rio de janeiro</td>\n",
       "      <td>campo grande</td>\n",
       "      <td>sedex</td>\n",
       "      <td>4bd</td>\n",
       "      <td>invoiced</td>\n",
       "      <td>-  -  -</td>\n",
       "      <td>mastercard</td>\n",
       "      <td>4</td>\n",
       "      <td>123911</td>\n",
       "      <td>/3/39/</td>\n",
       "      <td>239.0</td>\n",
       "      <td>239.0</td>\n",
       "      <td>239.0</td>\n",
       "      <td>12.78</td>\n",
       "      <td>0.0</td>\n",
       "      <td>239.0</td>\n",
       "      <td>0.0</td>\n",
       "      <td>2018-02-26/2018-03-04</td>\n",
       "    </tr>\n",
       "    <tr>\n",
       "      <th>1</th>\n",
       "      <td>B2C Channel</td>\n",
       "      <td>614737</td>\n",
       "      <td>2018-02-28</td>\n",
       "      <td>2019-04-16 01:09:59</td>\n",
       "      <td>X0YKY79YK0K</td>\n",
       "      <td>mg</td>\n",
       "      <td>carangola</td>\n",
       "      <td>santa maria</td>\n",
       "      <td>sedex</td>\n",
       "      <td>6bd</td>\n",
       "      <td>invoiced</td>\n",
       "      <td>-  -  -</td>\n",
       "      <td>mastercard</td>\n",
       "      <td>4</td>\n",
       "      <td>116363</td>\n",
       "      <td>/3/36/</td>\n",
       "      <td>239.0</td>\n",
       "      <td>239.0</td>\n",
       "      <td>239.0</td>\n",
       "      <td>41.35</td>\n",
       "      <td>0.0</td>\n",
       "      <td>239.0</td>\n",
       "      <td>0.0</td>\n",
       "      <td>2018-02-26/2018-03-04</td>\n",
       "    </tr>\n",
       "    <tr>\n",
       "      <th>2</th>\n",
       "      <td>B2C Channel</td>\n",
       "      <td>614752</td>\n",
       "      <td>2018-02-28</td>\n",
       "      <td>2019-04-16 02:29:28</td>\n",
       "      <td>XBY0YBXA709</td>\n",
       "      <td>rj</td>\n",
       "      <td>rio de janeiro</td>\n",
       "      <td>maracan</td>\n",
       "      <td>ciclo verde</td>\n",
       "      <td>2bd</td>\n",
       "      <td>ready for shipping</td>\n",
       "      <td>-  -  -</td>\n",
       "      <td>mastercard</td>\n",
       "      <td>5</td>\n",
       "      <td>122075</td>\n",
       "      <td>/3/42/</td>\n",
       "      <td>199.0</td>\n",
       "      <td>159.2</td>\n",
       "      <td>199.0</td>\n",
       "      <td>4.22</td>\n",
       "      <td>0.0</td>\n",
       "      <td>397.6</td>\n",
       "      <td>-99.4</td>\n",
       "      <td>2018-02-26/2018-03-04</td>\n",
       "    </tr>\n",
       "    <tr>\n",
       "      <th>3</th>\n",
       "      <td>B2C Channel</td>\n",
       "      <td>614752</td>\n",
       "      <td>2018-02-28</td>\n",
       "      <td>2019-04-16 02:29:28</td>\n",
       "      <td>XBY0YBXA709</td>\n",
       "      <td>rj</td>\n",
       "      <td>rio de janeiro</td>\n",
       "      <td>maracan</td>\n",
       "      <td>ciclo verde</td>\n",
       "      <td>2bd</td>\n",
       "      <td>ready for shipping</td>\n",
       "      <td>-  -  -</td>\n",
       "      <td>mastercard</td>\n",
       "      <td>5</td>\n",
       "      <td>126811</td>\n",
       "      <td>/3/39/</td>\n",
       "      <td>199.0</td>\n",
       "      <td>159.2</td>\n",
       "      <td>199.0</td>\n",
       "      <td>4.24</td>\n",
       "      <td>0.0</td>\n",
       "      <td>397.6</td>\n",
       "      <td>-99.4</td>\n",
       "      <td>2018-02-26/2018-03-04</td>\n",
       "    </tr>\n",
       "    <tr>\n",
       "      <th>4</th>\n",
       "      <td>B2C Channel</td>\n",
       "      <td>614752</td>\n",
       "      <td>2018-02-28</td>\n",
       "      <td>2019-04-16 02:29:28</td>\n",
       "      <td>XBY0YBXA709</td>\n",
       "      <td>rj</td>\n",
       "      <td>rio de janeiro</td>\n",
       "      <td>maracan</td>\n",
       "      <td>ciclo verde</td>\n",
       "      <td>2bd</td>\n",
       "      <td>ready for shipping</td>\n",
       "      <td>-  -  -</td>\n",
       "      <td>mastercard</td>\n",
       "      <td>5</td>\n",
       "      <td>122038</td>\n",
       "      <td>/1/6/28/</td>\n",
       "      <td>99.0</td>\n",
       "      <td>79.2</td>\n",
       "      <td>99.0</td>\n",
       "      <td>1.52</td>\n",
       "      <td>0.0</td>\n",
       "      <td>397.6</td>\n",
       "      <td>-99.4</td>\n",
       "      <td>2018-02-26/2018-03-04</td>\n",
       "    </tr>\n",
       "  </tbody>\n",
       "</table>\n",
       "</div>"
      ],
      "text/plain": [
       "        origin  sequence        day                hour client_document state  \\\n",
       "0  B2C Channel    614845 2018-02-28 2019-04-16 16:52:40     X0AX9YK97K0    rj   \n",
       "1  B2C Channel    614737 2018-02-28 2019-04-16 01:09:59     X0YKY79YK0K    mg   \n",
       "2  B2C Channel    614752 2018-02-28 2019-04-16 02:29:28     XBY0YBXA709    rj   \n",
       "3  B2C Channel    614752 2018-02-28 2019-04-16 02:29:28     XBY0YBXA709    rj   \n",
       "4  B2C Channel    614752 2018-02-28 2019-04-16 02:29:28     XBY0YBXA709    rj   \n",
       "\n",
       "             city  neighborhood      carrier delivery_deadline  \\\n",
       "0  rio de janeiro  campo grande        sedex               4bd   \n",
       "1       carangola   santa maria        sedex               6bd   \n",
       "2  rio de janeiro       maracan  ciclo verde               2bd   \n",
       "3  rio de janeiro       maracan  ciclo verde               2bd   \n",
       "4  rio de janeiro       maracan  ciclo verde               2bd   \n",
       "\n",
       "               status       utmi payment_system_name  installments  id_sku  \\\n",
       "0            invoiced   -  -  -           mastercard             4  123911   \n",
       "1            invoiced   -  -  -           mastercard             4  116363   \n",
       "2  ready for shipping   -  -  -           mastercard             5  122075   \n",
       "3  ready for shipping   -  -  -           mastercard             5  126811   \n",
       "4  ready for shipping   -  -  -           mastercard             5  122038   \n",
       "\n",
       "  category_ids_sku  sku_value  sku_selling_price  sku_total_price  \\\n",
       "0           /3/39/      239.0              239.0            239.0   \n",
       "1           /3/36/      239.0              239.0            239.0   \n",
       "2           /3/42/      199.0              159.2            199.0   \n",
       "3           /3/39/      199.0              159.2            199.0   \n",
       "4         /1/6/28/       99.0               79.2             99.0   \n",
       "\n",
       "   shipping_list_price  shipping_value  total_value  discounts_totals  \\\n",
       "0                12.78             0.0        239.0               0.0   \n",
       "1                41.35             0.0        239.0               0.0   \n",
       "2                 4.22             0.0        397.6             -99.4   \n",
       "3                 4.24             0.0        397.6             -99.4   \n",
       "4                 1.52             0.0        397.6             -99.4   \n",
       "\n",
       "     order_purchase_week  \n",
       "0  2018-02-26/2018-03-04  \n",
       "1  2018-02-26/2018-03-04  \n",
       "2  2018-02-26/2018-03-04  \n",
       "3  2018-02-26/2018-03-04  \n",
       "4  2018-02-26/2018-03-04  "
      ]
     },
     "execution_count": 58,
     "metadata": {},
     "output_type": "execute_result"
    },
    {
     "data": {
      "text/plain": [
       "origin                         object\n",
       "sequence                        int64\n",
       "day                    datetime64[ns]\n",
       "hour                   datetime64[ns]\n",
       "client_document                object\n",
       "state                          object\n",
       "city                           object\n",
       "neighborhood                   object\n",
       "carrier                        object\n",
       "delivery_deadline              object\n",
       "status                         object\n",
       "utmi                           object\n",
       "payment_system_name            object\n",
       "installments                    int64\n",
       "id_sku                          int64\n",
       "category_ids_sku               object\n",
       "sku_value                     float64\n",
       "sku_selling_price             float64\n",
       "sku_total_price               float64\n",
       "shipping_list_price           float64\n",
       "shipping_value                float64\n",
       "total_value                   float64\n",
       "discounts_totals              float64\n",
       "order_purchase_week            object\n",
       "dtype: object"
      ]
     },
     "execution_count": 58,
     "metadata": {},
     "output_type": "execute_result"
    }
   ],
   "source": [
    "df['order_purchase_week'] = df.day.dt.to_period('W').astype(str)\n",
    "df.head()\n",
    "df.dtypes"
   ]
  },
  {
   "cell_type": "markdown",
   "metadata": {},
   "source": [
    "### Creating an aggregation"
   ]
  },
  {
   "cell_type": "code",
   "execution_count": 59,
   "metadata": {},
   "outputs": [
    {
     "data": {
      "text/html": [
       "<div>\n",
       "<style scoped>\n",
       "    .dataframe tbody tr th:only-of-type {\n",
       "        vertical-align: middle;\n",
       "    }\n",
       "\n",
       "    .dataframe tbody tr th {\n",
       "        vertical-align: top;\n",
       "    }\n",
       "\n",
       "    .dataframe thead th {\n",
       "        text-align: right;\n",
       "    }\n",
       "</style>\n",
       "<table border=\"1\" class=\"dataframe\">\n",
       "  <thead>\n",
       "    <tr style=\"text-align: right;\">\n",
       "      <th></th>\n",
       "      <th>order_purchase_week</th>\n",
       "      <th>total_value</th>\n",
       "    </tr>\n",
       "  </thead>\n",
       "  <tbody>\n",
       "    <tr>\n",
       "      <th>0</th>\n",
       "      <td>2018-02-26/2018-03-04</td>\n",
       "      <td>67535.36</td>\n",
       "    </tr>\n",
       "    <tr>\n",
       "      <th>1</th>\n",
       "      <td>2018-03-05/2018-03-11</td>\n",
       "      <td>109688.95</td>\n",
       "    </tr>\n",
       "    <tr>\n",
       "      <th>2</th>\n",
       "      <td>2018-03-12/2018-03-18</td>\n",
       "      <td>161978.93</td>\n",
       "    </tr>\n",
       "    <tr>\n",
       "      <th>3</th>\n",
       "      <td>2018-03-19/2018-03-25</td>\n",
       "      <td>104795.74</td>\n",
       "    </tr>\n",
       "    <tr>\n",
       "      <th>4</th>\n",
       "      <td>2018-03-26/2018-04-01</td>\n",
       "      <td>70085.75</td>\n",
       "    </tr>\n",
       "  </tbody>\n",
       "</table>\n",
       "</div>"
      ],
      "text/plain": [
       "     order_purchase_week  total_value\n",
       "0  2018-02-26/2018-03-04     67535.36\n",
       "1  2018-03-05/2018-03-11    109688.95\n",
       "2  2018-03-12/2018-03-18    161978.93\n",
       "3  2018-03-19/2018-03-25    104795.74\n",
       "4  2018-03-26/2018-04-01     70085.75"
      ]
     },
     "execution_count": 59,
     "metadata": {},
     "output_type": "execute_result"
    }
   ],
   "source": [
    "sales_per_purchase_week = df.groupby('order_purchase_week', as_index=False).total_value.sum()\n",
    "sales_per_purchase_week.head()"
   ]
  },
  {
   "cell_type": "code",
   "execution_count": 60,
   "metadata": {},
   "outputs": [],
   "source": [
    "sales_per_purchase_week['idx'] = sales_per_purchase_week.index"
   ]
  },
  {
   "cell_type": "code",
   "execution_count": 61,
   "metadata": {},
   "outputs": [
    {
     "data": {
      "text/html": [
       "<div>\n",
       "<style scoped>\n",
       "    .dataframe tbody tr th:only-of-type {\n",
       "        vertical-align: middle;\n",
       "    }\n",
       "\n",
       "    .dataframe tbody tr th {\n",
       "        vertical-align: top;\n",
       "    }\n",
       "\n",
       "    .dataframe thead th {\n",
       "        text-align: right;\n",
       "    }\n",
       "</style>\n",
       "<table border=\"1\" class=\"dataframe\">\n",
       "  <thead>\n",
       "    <tr style=\"text-align: right;\">\n",
       "      <th></th>\n",
       "      <th>order_purchase_week</th>\n",
       "      <th>total_value</th>\n",
       "      <th>idx</th>\n",
       "    </tr>\n",
       "  </thead>\n",
       "  <tbody>\n",
       "    <tr>\n",
       "      <th>0</th>\n",
       "      <td>2018-02-26/2018-03-04</td>\n",
       "      <td>67535.36</td>\n",
       "      <td>0</td>\n",
       "    </tr>\n",
       "    <tr>\n",
       "      <th>1</th>\n",
       "      <td>2018-03-05/2018-03-11</td>\n",
       "      <td>109688.95</td>\n",
       "      <td>1</td>\n",
       "    </tr>\n",
       "    <tr>\n",
       "      <th>2</th>\n",
       "      <td>2018-03-12/2018-03-18</td>\n",
       "      <td>161978.93</td>\n",
       "      <td>2</td>\n",
       "    </tr>\n",
       "    <tr>\n",
       "      <th>3</th>\n",
       "      <td>2018-03-19/2018-03-25</td>\n",
       "      <td>104795.74</td>\n",
       "      <td>3</td>\n",
       "    </tr>\n",
       "    <tr>\n",
       "      <th>4</th>\n",
       "      <td>2018-03-26/2018-04-01</td>\n",
       "      <td>70085.75</td>\n",
       "      <td>4</td>\n",
       "    </tr>\n",
       "  </tbody>\n",
       "</table>\n",
       "</div>"
      ],
      "text/plain": [
       "     order_purchase_week  total_value  idx\n",
       "0  2018-02-26/2018-03-04     67535.36    0\n",
       "1  2018-03-05/2018-03-11    109688.95    1\n",
       "2  2018-03-12/2018-03-18    161978.93    2\n",
       "3  2018-03-19/2018-03-25    104795.74    3\n",
       "4  2018-03-26/2018-04-01     70085.75    4"
      ]
     },
     "execution_count": 61,
     "metadata": {},
     "output_type": "execute_result"
    }
   ],
   "source": [
    "sales_per_purchase_week.head()"
   ]
  },
  {
   "cell_type": "code",
   "execution_count": 63,
   "metadata": {},
   "outputs": [
    {
     "data": {
      "image/png": "[encoded data removed]",
      "text/plain": [
       "<matplotlib.figure.Figure at 0x1a14bde7f0>"
      ]
     },
     "metadata": {},
     "output_type": "display_data"
    }
   ],
   "source": [
    "# ax = sns.lineplot(x=\"order_purchase_week\", y=\"total_value\", data=sales_per_purchase_week)\n",
    "# ax.set_title('Sales per week')\n",
    "sales_per_purchase_week.iloc[:,:-1].plot();"
   ]
  },
  {
   "cell_type": "code",
   "execution_count": 64,
   "metadata": {},
   "outputs": [
    {
     "data": {
      "text/html": [
       "<div>\n",
       "<style scoped>\n",
       "    .dataframe tbody tr th:only-of-type {\n",
       "        vertical-align: middle;\n",
       "    }\n",
       "\n",
       "    .dataframe tbody tr th {\n",
       "        vertical-align: top;\n",
       "    }\n",
       "\n",
       "    .dataframe thead th {\n",
       "        text-align: right;\n",
       "    }\n",
       "</style>\n",
       "<table border=\"1\" class=\"dataframe\">\n",
       "  <thead>\n",
       "    <tr style=\"text-align: right;\">\n",
       "      <th></th>\n",
       "      <th>hour</th>\n",
       "      <th>total_value</th>\n",
       "    </tr>\n",
       "  </thead>\n",
       "  <tbody>\n",
       "    <tr>\n",
       "      <th>0</th>\n",
       "      <td>2019-04-16 00:00:00</td>\n",
       "      <td>109.51</td>\n",
       "    </tr>\n",
       "    <tr>\n",
       "      <th>1</th>\n",
       "      <td>2019-04-16 00:00:03</td>\n",
       "      <td>239.00</td>\n",
       "    </tr>\n",
       "    <tr>\n",
       "      <th>2</th>\n",
       "      <td>2019-04-16 00:00:05</td>\n",
       "      <td>650.97</td>\n",
       "    </tr>\n",
       "    <tr>\n",
       "      <th>3</th>\n",
       "      <td>2019-04-16 00:00:44</td>\n",
       "      <td>239.00</td>\n",
       "    </tr>\n",
       "    <tr>\n",
       "      <th>4</th>\n",
       "      <td>2019-04-16 00:01:03</td>\n",
       "      <td>88.94</td>\n",
       "    </tr>\n",
       "  </tbody>\n",
       "</table>\n",
       "</div>"
      ],
      "text/plain": [
       "                 hour  total_value\n",
       "0 2019-04-16 00:00:00       109.51\n",
       "1 2019-04-16 00:00:03       239.00\n",
       "2 2019-04-16 00:00:05       650.97\n",
       "3 2019-04-16 00:00:44       239.00\n",
       "4 2019-04-16 00:01:03        88.94"
      ]
     },
     "execution_count": 64,
     "metadata": {},
     "output_type": "execute_result"
    }
   ],
   "source": [
    "sales_per_hour = df.groupby('hour', as_index=False).total_value.sum()\n",
    "sales_per_hour.head()"
   ]
  },
  {
   "cell_type": "code",
   "execution_count": 65,
   "metadata": {},
   "outputs": [
    {
     "data": {
      "image/png": "[encoded data removed]",
      "text/plain": [
       "<matplotlib.figure.Figure at 0x1a128abfd0>"
      ]
     },
     "metadata": {},
     "output_type": "display_data"
    }
   ],
   "source": [
    "ax = sns.lineplot(x=\"hour\", y=\"total_value\", data=sales_per_hour)\n",
    "sns.set(rc={'figure.figsize':(20,5.27)})\n",
    "ax.set_title('Sales per Hour');"
   ]
  },
  {
   "cell_type": "code",
   "execution_count": null,
   "metadata": {},
   "outputs": [],
   "source": []
  }
 ],
 "metadata": {
  "kernelspec": {
   "display_name": "Python 3",
   "language": "python",
   "name": "python3"
  },
  "language_info": {
   "codemirror_mode": {
    "name": "ipython",
    "version": 3
   },
   "file_extension": ".py",
   "mimetype": "text/x-python",
   "name": "python",
   "nbconvert_exporter": "python",
   "pygments_lexer": "ipython3",
   "version": "3.6.6"
  }
 },
 "nbformat": 4,
 "nbformat_minor": 2
}
